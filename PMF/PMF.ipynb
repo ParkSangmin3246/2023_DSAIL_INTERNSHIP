{
  "nbformat": 4,
  "nbformat_minor": 0,
  "metadata": {
    "colab": {
      "provenance": [],
      "gpuType": "T4"
    },
    "kernelspec": {
      "name": "python3",
      "display_name": "Python 3"
    },
    "language_info": {
      "name": "python"
    },
    "accelerator": "GPU"
  },
  "cells": [
    {
      "cell_type": "markdown",
      "source": [
        "# PMF Implementation"
      ],
      "metadata": {
        "id": "bDXEWS33jZ-i"
      }
    },
    {
      "cell_type": "code",
      "source": [
        "import torch\n",
        "import torchvision\n",
        "import torch.nn"
      ],
      "metadata": {
        "id": "u83wGu-bjg8l"
      },
      "execution_count": null,
      "outputs": []
    },
    {
      "cell_type": "code",
      "source": [
        "from google.colab import drive\n",
        "drive.mount('/content/drive')"
      ],
      "metadata": {
        "colab": {
          "base_uri": "https://localhost:8080/"
        },
        "id": "aXX2n3xLlPAw",
        "outputId": "c01384f6-3f08-411e-f69b-3eac8de9d842"
      },
      "execution_count": null,
      "outputs": [
        {
          "output_type": "stream",
          "name": "stdout",
          "text": [
            "Mounted at /content/drive\n"
          ]
        }
      ]
    },
    {
      "cell_type": "code",
      "source": [
        "import os\n",
        "import numpy as np\n",
        "import pandas as pd\n",
        "import warnings\n",
        "from sklearn.model_selection import train_test_split\n",
        "from tables.table import NoSuchNodeError\n",
        "from sklearn.metrics import mean_squared_error\n",
        "import matplotlib.pyplot as plt\n",
        "import math\n",
        "import copy\n",
        "warnings.filterwarnings('ignore')"
      ],
      "metadata": {
        "id": "n-JSXUT1p5J5"
      },
      "execution_count": null,
      "outputs": []
    },
    {
      "cell_type": "code",
      "source": [
        "INPUT_DIR='/content/drive/MyDrive/DSAIL/data'\n",
        "OUTPUT_DIR='/content/drive/MyDrive/DSAIL/data'"
      ],
      "metadata": {
        "id": "qcuPjYkLqEfQ"
      },
      "execution_count": null,
      "outputs": []
    },
    {
      "cell_type": "code",
      "source": [
        "ratings = pd.read_csv(os.path.join(INPUT_DIR, 'ratings.csv'))"
      ],
      "metadata": {
        "id": "hn1UDjiWqXC_"
      },
      "execution_count": null,
      "outputs": []
    },
    {
      "cell_type": "code",
      "source": [
        "ratings_df = ratings.drop(columns=['timestamp'])\n",
        "ratings_df"
      ],
      "metadata": {
        "colab": {
          "base_uri": "https://localhost:8080/",
          "height": 423
        },
        "id": "EcBpaQzgrxu0",
        "outputId": "27079795-1d08-47e5-e325-7fa5aef2eeef"
      },
      "execution_count": null,
      "outputs": [
        {
          "output_type": "execute_result",
          "data": {
            "text/plain": [
              "        userId  movieId  rating\n",
              "0            1        1     4.0\n",
              "1            1        3     4.0\n",
              "2            1        6     4.0\n",
              "3            1       47     5.0\n",
              "4            1       50     5.0\n",
              "...        ...      ...     ...\n",
              "100831     610   166534     4.0\n",
              "100832     610   168248     5.0\n",
              "100833     610   168250     5.0\n",
              "100834     610   168252     5.0\n",
              "100835     610   170875     3.0\n",
              "\n",
              "[100836 rows x 3 columns]"
            ],
            "text/html": [
              "\n",
              "  <div id=\"df-ebf01b1f-b99f-4e22-8961-0e9868e22ea3\">\n",
              "    <div class=\"colab-df-container\">\n",
              "      <div>\n",
              "<style scoped>\n",
              "    .dataframe tbody tr th:only-of-type {\n",
              "        vertical-align: middle;\n",
              "    }\n",
              "\n",
              "    .dataframe tbody tr th {\n",
              "        vertical-align: top;\n",
              "    }\n",
              "\n",
              "    .dataframe thead th {\n",
              "        text-align: right;\n",
              "    }\n",
              "</style>\n",
              "<table border=\"1\" class=\"dataframe\">\n",
              "  <thead>\n",
              "    <tr style=\"text-align: right;\">\n",
              "      <th></th>\n",
              "      <th>userId</th>\n",
              "      <th>movieId</th>\n",
              "      <th>rating</th>\n",
              "    </tr>\n",
              "  </thead>\n",
              "  <tbody>\n",
              "    <tr>\n",
              "      <th>0</th>\n",
              "      <td>1</td>\n",
              "      <td>1</td>\n",
              "      <td>4.0</td>\n",
              "    </tr>\n",
              "    <tr>\n",
              "      <th>1</th>\n",
              "      <td>1</td>\n",
              "      <td>3</td>\n",
              "      <td>4.0</td>\n",
              "    </tr>\n",
              "    <tr>\n",
              "      <th>2</th>\n",
              "      <td>1</td>\n",
              "      <td>6</td>\n",
              "      <td>4.0</td>\n",
              "    </tr>\n",
              "    <tr>\n",
              "      <th>3</th>\n",
              "      <td>1</td>\n",
              "      <td>47</td>\n",
              "      <td>5.0</td>\n",
              "    </tr>\n",
              "    <tr>\n",
              "      <th>4</th>\n",
              "      <td>1</td>\n",
              "      <td>50</td>\n",
              "      <td>5.0</td>\n",
              "    </tr>\n",
              "    <tr>\n",
              "      <th>...</th>\n",
              "      <td>...</td>\n",
              "      <td>...</td>\n",
              "      <td>...</td>\n",
              "    </tr>\n",
              "    <tr>\n",
              "      <th>100831</th>\n",
              "      <td>610</td>\n",
              "      <td>166534</td>\n",
              "      <td>4.0</td>\n",
              "    </tr>\n",
              "    <tr>\n",
              "      <th>100832</th>\n",
              "      <td>610</td>\n",
              "      <td>168248</td>\n",
              "      <td>5.0</td>\n",
              "    </tr>\n",
              "    <tr>\n",
              "      <th>100833</th>\n",
              "      <td>610</td>\n",
              "      <td>168250</td>\n",
              "      <td>5.0</td>\n",
              "    </tr>\n",
              "    <tr>\n",
              "      <th>100834</th>\n",
              "      <td>610</td>\n",
              "      <td>168252</td>\n",
              "      <td>5.0</td>\n",
              "    </tr>\n",
              "    <tr>\n",
              "      <th>100835</th>\n",
              "      <td>610</td>\n",
              "      <td>170875</td>\n",
              "      <td>3.0</td>\n",
              "    </tr>\n",
              "  </tbody>\n",
              "</table>\n",
              "<p>100836 rows × 3 columns</p>\n",
              "</div>\n",
              "      <button class=\"colab-df-convert\" onclick=\"convertToInteractive('df-ebf01b1f-b99f-4e22-8961-0e9868e22ea3')\"\n",
              "              title=\"Convert this dataframe to an interactive table.\"\n",
              "              style=\"display:none;\">\n",
              "        \n",
              "  <svg xmlns=\"http://www.w3.org/2000/svg\" height=\"24px\"viewBox=\"0 0 24 24\"\n",
              "       width=\"24px\">\n",
              "    <path d=\"M0 0h24v24H0V0z\" fill=\"none\"/>\n",
              "    <path d=\"M18.56 5.44l.94 2.06.94-2.06 2.06-.94-2.06-.94-.94-2.06-.94 2.06-2.06.94zm-11 1L8.5 8.5l.94-2.06 2.06-.94-2.06-.94L8.5 2.5l-.94 2.06-2.06.94zm10 10l.94 2.06.94-2.06 2.06-.94-2.06-.94-.94-2.06-.94 2.06-2.06.94z\"/><path d=\"M17.41 7.96l-1.37-1.37c-.4-.4-.92-.59-1.43-.59-.52 0-1.04.2-1.43.59L10.3 9.45l-7.72 7.72c-.78.78-.78 2.05 0 2.83L4 21.41c.39.39.9.59 1.41.59.51 0 1.02-.2 1.41-.59l7.78-7.78 2.81-2.81c.8-.78.8-2.07 0-2.86zM5.41 20L4 18.59l7.72-7.72 1.47 1.35L5.41 20z\"/>\n",
              "  </svg>\n",
              "      </button>\n",
              "      \n",
              "  <style>\n",
              "    .colab-df-container {\n",
              "      display:flex;\n",
              "      flex-wrap:wrap;\n",
              "      gap: 12px;\n",
              "    }\n",
              "\n",
              "    .colab-df-convert {\n",
              "      background-color: #E8F0FE;\n",
              "      border: none;\n",
              "      border-radius: 50%;\n",
              "      cursor: pointer;\n",
              "      display: none;\n",
              "      fill: #1967D2;\n",
              "      height: 32px;\n",
              "      padding: 0 0 0 0;\n",
              "      width: 32px;\n",
              "    }\n",
              "\n",
              "    .colab-df-convert:hover {\n",
              "      background-color: #E2EBFA;\n",
              "      box-shadow: 0px 1px 2px rgba(60, 64, 67, 0.3), 0px 1px 3px 1px rgba(60, 64, 67, 0.15);\n",
              "      fill: #174EA6;\n",
              "    }\n",
              "\n",
              "    [theme=dark] .colab-df-convert {\n",
              "      background-color: #3B4455;\n",
              "      fill: #D2E3FC;\n",
              "    }\n",
              "\n",
              "    [theme=dark] .colab-df-convert:hover {\n",
              "      background-color: #434B5C;\n",
              "      box-shadow: 0px 1px 3px 1px rgba(0, 0, 0, 0.15);\n",
              "      filter: drop-shadow(0px 1px 2px rgba(0, 0, 0, 0.3));\n",
              "      fill: #FFFFFF;\n",
              "    }\n",
              "  </style>\n",
              "\n",
              "      <script>\n",
              "        const buttonEl =\n",
              "          document.querySelector('#df-ebf01b1f-b99f-4e22-8961-0e9868e22ea3 button.colab-df-convert');\n",
              "        buttonEl.style.display =\n",
              "          google.colab.kernel.accessAllowed ? 'block' : 'none';\n",
              "\n",
              "        async function convertToInteractive(key) {\n",
              "          const element = document.querySelector('#df-ebf01b1f-b99f-4e22-8961-0e9868e22ea3');\n",
              "          const dataTable =\n",
              "            await google.colab.kernel.invokeFunction('convertToInteractive',\n",
              "                                                     [key], {});\n",
              "          if (!dataTable) return;\n",
              "\n",
              "          const docLinkHtml = 'Like what you see? Visit the ' +\n",
              "            '<a target=\"_blank\" href=https://colab.research.google.com/notebooks/data_table.ipynb>data table notebook</a>'\n",
              "            + ' to learn more about interactive tables.';\n",
              "          element.innerHTML = '';\n",
              "          dataTable['output_type'] = 'display_data';\n",
              "          await google.colab.output.renderOutput(dataTable, element);\n",
              "          const docLink = document.createElement('div');\n",
              "          docLink.innerHTML = docLinkHtml;\n",
              "          element.appendChild(docLink);\n",
              "        }\n",
              "      </script>\n",
              "    </div>\n",
              "  </div>\n",
              "  "
            ]
          },
          "metadata": {},
          "execution_count": 14
        }
      ]
    },
    {
      "cell_type": "code",
      "source": [
        "#userId x moveId , cell : rating인 matrix\n",
        "\n",
        "table_df = ratings_df.pivot_table(index='userId', columns='movieId', values ='rating')\n",
        "df_matrix = table_df.to_numpy()"
      ],
      "metadata": {
        "id": "Uz-YYeeeyt4T"
      },
      "execution_count": null,
      "outputs": []
    },
    {
      "cell_type": "code",
      "source": [
        "#Nan이 아닌 애들의 위치를 뽑아서\n",
        "\n",
        "locate = []\n",
        "for i in range (len(df_matrix)):\n",
        "  for j in range (len(df_matrix[0])):\n",
        "    if not(math.isnan(df_matrix[i][j])):\n",
        "      locate.append((i,j))\n",
        "data = np.array(locate)\n",
        "data = data.astype(int)\n",
        "\n",
        "#그 뽑은 위치들 중 train/test(validation) split\n",
        "train_data, test_data = train_test_split(data,test_size = 0.25, random_state = 42)\n",
        "\n",
        "train_df = np.zeros(df_matrix.shape)\n",
        "test_df = np.zeros(df_matrix.shape)\n",
        "\n",
        "for tup in train_data:\n",
        "  train_df[tup[0]][tup[1]] = df_matrix[tup[0]][tup[1]]\n",
        "for tup in test_data:\n",
        "  test_df[tup[0]][tup[1]] = df_matrix[tup[0]][tup[1]]\n",
        "\n",
        "print(train_df)"
      ],
      "metadata": {
        "id": "Hud-wQXW0m7F",
        "colab": {
          "base_uri": "https://localhost:8080/"
        },
        "outputId": "e80641dd-2832-4404-a937-cb2cfbb20575"
      },
      "execution_count": null,
      "outputs": [
        {
          "output_type": "stream",
          "name": "stdout",
          "text": [
            "[[4.  0.  4.  ... 0.  0.  0. ]\n",
            " [0.  0.  0.  ... 0.  0.  0. ]\n",
            " [0.  0.  0.  ... 0.  0.  0. ]\n",
            " ...\n",
            " [2.5 2.  2.  ... 0.  0.  0. ]\n",
            " [3.  0.  0.  ... 0.  0.  0. ]\n",
            " [5.  0.  0.  ... 0.  0.  0. ]]\n"
          ]
        }
      ]
    },
    {
      "cell_type": "code",
      "source": [
        "class PMF():\n",
        "  def __init__(self, train_R = None, test_R = None, constrained = False ):\n",
        "    self.num_feat = 30\n",
        "    self.momentum = 0.9\n",
        "    self.learning_rate = 0.0005\n",
        "    self.itr = 80\n",
        "    self.lambda_V = 0.001\n",
        "    self.lambda_U = 0.001\n",
        "    self.lambda_W = 0.001\n",
        "    self.train_R = train_R\n",
        "    self.test_df = test_R\n",
        "    self.constrained = constrained\n",
        "\n",
        "    self.train_I = copy.deepcopy(self.train_R)\n",
        "    self.train_I[self.train_I>0] = 1\n",
        "\n",
        "    rand_num1 = np.random.RandomState(100)\n",
        "    rand_num2 = np.random.RandomState(101)\n",
        "    #0.1이 필요한가???\n",
        "    self.U = rand_num1.randn(self.num_feat,train_R.shape[0])\n",
        "    self.V = rand_num1.randn(self.num_feat,train_R.shape[1])\n",
        "    self.W = rand_num2.randn(self.num_feat,train_R.shape[1])\n",
        "\n",
        "    self.Y = None\n",
        "    self.sigma_I = np.dot(self.train_I,np.ones(self.train_R.shape[1]))\n",
        "    self.sigma_I[self.sigma_I == 0] = np.inf\n",
        "\n",
        "\n",
        "  def loss_function(self):\n",
        "    if not self.constrained:\n",
        "      return 0.5*np.sum((self.train_I*(self.train_R-np.dot(self.U.T,self.V))**2)) + 0.5*(self.lambda_U)*np.sum(np.square(self.U)) + 0.5*(self.lambda_V)*np.sum(np.square(self.V))\n",
        "    else:\n",
        "      ##sigmoid 대입할수는 없을까?\n",
        "      #return 0.5*np.sum(self.I*(self.train_R-np.dot(self.U.T + (np.dot(self.W, self.I.T)/self.sigma_I).T, self.V))**2) + 0.5*self.lambU*np.sum(np.square(self.U)) + 0.5*self.lambV*np.sum(np.square(self.V))+0.5*self.lambW*np.sum(np.square(self.W))\n",
        "      return 0.5 * np.sum(self.train_I*(self.train_R- np.dot(((self.U+(np.dot(self.W,self.train_I.T)/self.sigma_I)).T),self.V))**2) + (self.lambda_U/2)*np.sum((self.U)**2) + (self.lambda_V/2)*np.sum((self.V**2)) + (self.lambda_W/2)*np.sum((self.W)**2)\n",
        "\n",
        "  ###########################################################\n",
        "  def predict(self,test_data):\n",
        "    #constrain이면 Y항 나와야하고 그렇지 않으면 U항만써서 V와 곱한다.\n",
        "    pred_value = []\n",
        "    if(self.constrained):\n",
        "      sigma_I = np.dot(self.train_I,np.ones(self.train_R.shape[1]))\n",
        "      sigma_I[self.sigma_I == 0] = np.inf\n",
        "      self.Y = self.U + (np.dot(self.W, self.train_I.T)/sigma_I)\n",
        "      for locate in test_data:\n",
        "        pred_value.append(np.dot(self.Y[:,locate[0]],self.V[:,locate[1]]))\n",
        "    else:\n",
        "      for locate in test_data:\n",
        "        pred_value.append(np.dot(self.U[:,locate[0]],self.V[:,locate[1]]))\n",
        "\n",
        "    return np.array(pred_value)\n",
        "\n",
        "    pass\n",
        "\n",
        "  def fit(self, test_data, df_matrix):\n",
        "    train_mse = []\n",
        "    test_mse = []\n",
        "\n",
        "    mmt_U = np.zeros(self.U.shape)\n",
        "    mmt_V = np.zeros(self.V.shape)\n",
        "\n",
        "    if not self.constrained:\n",
        "      for i in range (self.itr):\n",
        "        dv_u = - (np.dot((self.train_I*(self.train_R - np.dot(self.U.T,self.V))),self.V.T)).T + self.lambda_U*self.U\n",
        "        dv_v = - (np.dot(self.U, (self.train_I*(self.train_R - np.dot(self.U.T, self.V))))) + self.lambda_V*self.V\n",
        "\n",
        "        mmt_U = (self.momentum * mmt_U) + self.learning_rate * dv_u\n",
        "        mmt_V = (self.momentum * mmt_V) + self.learning_rate * dv_v\n",
        "        self.U = self.U - mmt_U * self.momentum\n",
        "        self.V = self.V - mmt_V * self.momentum\n",
        "        train_mse_loss = self.loss_function()\n",
        "        train_mse.append(train_mse_loss)\n",
        "\n",
        "        test_predicts = self.predict(test_data)\n",
        "        test_data_values = df_matrix[test_data[:,0],test_data[:,1]]\n",
        "        test_mse_value =np.sum(np.square(test_data_values-test_predicts))/len(test_data_values)\n",
        "        test_mse.append(test_mse_value)\n",
        "\n",
        "        print('traning iteration:{: d} ,loss:{: f}, test_rmse:{: f}'.format(i, train_mse_loss, test_mse_value))\n",
        "\n",
        "\n",
        "    else:\n",
        "      mmt_W = np.zeros(self.W.shape)\n",
        "      for i in range(self.itr):\n",
        "\n",
        "        dv_u = - (np.dot(self.train_I*(self.train_R-np.dot(self.U.T + (np.dot(self.W,self.train_I.T)/self.sigma_I).T,self.V)),self.V.T)).T + self.lambda_U*self.U\n",
        "        dv_v = - np.dot(self.U ,(self.train_I*(self.train_R-np.dot(self.U.T + (np.dot(self.W, self.train_I.T)/self.sigma_I).T, self.V)))) + self.lambda_V*self.V\n",
        "        #dv_v = - (np.dot(self.train_I*(self.train_R-np.dot(self.U.T + (np.dot((self.W,self.train_I.T)/self.sigma_I).T),self.V),self.U.T+(np.dot(self.W,self.train_I.T)/self.sigma_I).T))).T + self.lambda_V*self.V\n",
        "        dv_w = - (np.dot((self.train_I*(self.train_R-np.dot(self.U.T + (np.dot(self.W,self.train_I.T)/self.sigma_I).T,self.V))).T, np.dot(self.train_I/self.sigma_I.reshape(-1,1),self.V.T))).T + self.lambda_W*self.W\n",
        "\n",
        "        mmt_U = (self.momentum * mmt_U) + self.learning_rate * dv_u\n",
        "        mmt_V = (self.momentum * mmt_V) + self.learning_rate * dv_v\n",
        "        mmt_W = (self.momentum * mmt_W) + self.learning_rate * dv_w\n",
        "        self.U = self.U - self.momentum * mmt_U\n",
        "        self.V = self.V - self.momentum * mmt_V\n",
        "        self.W = self.V - self.momentum * mmt_W\n",
        "        train_mse_loss = self.loss_function()\n",
        "        train_mse.append(train_mse_loss)\n",
        "\n",
        "        test_predicts = self.predict(test_data)\n",
        "        test_data_values = df_matrix[test_data[:,0],test_data[:,1]]\n",
        "        test_mse_value =np.sum(np.square(test_data_values-test_predicts))/len(test_data_values)\n",
        "        test_mse.append(test_mse_value)\n",
        "\n",
        "        print('traning iteration:{: d} ,loss:{: f}, test_rmse:{: f}'.format(i, train_mse_loss, test_mse_value))\n",
        "\n",
        "\n",
        "\n",
        "      pass\n",
        "\n",
        "    return self.U, self.V, train_mse, test_mse\n",
        "\n",
        "\n",
        "\n",
        "\n",
        "\n",
        "\n"
      ],
      "metadata": {
        "id": "m2CQZnqjjEZy"
      },
      "execution_count": null,
      "outputs": []
    },
    {
      "cell_type": "code",
      "source": [
        "model1 = PMF(train_R = train_df,test_R = test_df, constrained= True)\n",
        "U1, V1, tr_loss_list1, test_rmse_list1 = model1.fit(test_data,df_matrix)\n",
        "preds = model1.predict(test_data=test_data)\n",
        "print(\"constrained_over\")"
      ],
      "metadata": {
        "colab": {
          "base_uri": "https://localhost:8080/"
        },
        "id": "ufxpPSCixYq9",
        "outputId": "f75d8a20-455b-4cc5-cf34-fe3e2e95100b"
      },
      "execution_count": null,
      "outputs": [
        {
          "output_type": "stream",
          "name": "stdout",
          "text": [
            "traning iteration: 0 ,loss: 1136667.052514, test_rmse: 33.729737\n",
            "traning iteration: 1 ,loss: 855306.617926, test_rmse: 27.681563\n",
            "traning iteration: 2 ,loss: 741809.212584, test_rmse: 25.545931\n",
            "traning iteration: 3 ,loss: 645791.276446, test_rmse: 23.153676\n",
            "traning iteration: 4 ,loss: 599021.032536, test_rmse: 21.902327\n",
            "traning iteration: 5 ,loss: 576758.737625, test_rmse: 21.617410\n",
            "traning iteration: 6 ,loss: 536203.546449, test_rmse: 20.624702\n",
            "traning iteration: 7 ,loss: 476095.526676, test_rmse: 18.648251\n",
            "traning iteration: 8 ,loss: 418140.263607, test_rmse: 16.738096\n",
            "traning iteration: 9 ,loss: 380510.495148, test_rmse: 15.709534\n",
            "traning iteration: 10 ,loss: 357039.376854, test_rmse: 15.222851\n",
            "traning iteration: 11 ,loss: 327841.417870, test_rmse: 14.434703\n",
            "traning iteration: 12 ,loss: 288451.340138, test_rmse: 13.114077\n",
            "traning iteration: 13 ,loss: 249349.895972, test_rmse: 11.647487\n",
            "traning iteration: 14 ,loss: 219007.909421, test_rmse: 10.426591\n",
            "traning iteration: 15 ,loss: 198754.090893, test_rmse: 9.588543\n",
            "traning iteration: 16 ,loss: 184472.439398, test_rmse: 9.049539\n",
            "traning iteration: 17 ,loss: 172412.200291, test_rmse: 8.678423\n",
            "traning iteration: 18 ,loss: 161219.221805, test_rmse: 8.371776\n",
            "traning iteration: 19 ,loss: 150702.880279, test_rmse: 8.068188\n",
            "traning iteration: 20 ,loss: 140471.309278, test_rmse: 7.734426\n",
            "traning iteration: 21 ,loss: 129956.702872, test_rmse: 7.354759\n",
            "traning iteration: 22 ,loss: 120326.178028, test_rmse: 6.987617\n",
            "traning iteration: 23 ,loss: 111367.181767, test_rmse: 6.665058\n",
            "traning iteration: 24 ,loss: 103617.715889, test_rmse: 6.410911\n",
            "traning iteration: 25 ,loss: 97218.888411, test_rmse: 6.212024\n",
            "traning iteration: 26 ,loss: 91896.935049, test_rmse: 6.059551\n",
            "traning iteration: 27 ,loss: 87388.645979, test_rmse: 5.950586\n",
            "traning iteration: 28 ,loss: 83530.140577, test_rmse: 5.862879\n",
            "traning iteration: 29 ,loss: 79583.875866, test_rmse: 5.748704\n",
            "traning iteration: 30 ,loss: 75969.281097, test_rmse: 5.617119\n",
            "traning iteration: 31 ,loss: 72579.981412, test_rmse: 5.481220\n",
            "traning iteration: 32 ,loss: 69355.408706, test_rmse: 5.346661\n",
            "traning iteration: 33 ,loss: 66170.360270, test_rmse: 5.216716\n",
            "traning iteration: 34 ,loss: 63096.074065, test_rmse: 5.108004\n",
            "traning iteration: 35 ,loss: 60188.640022, test_rmse: 5.027824\n",
            "traning iteration: 36 ,loss: 57638.907722, test_rmse: 4.979293\n",
            "traning iteration: 37 ,loss: 55093.901976, test_rmse: 4.956402\n",
            "traning iteration: 38 ,loss: 52623.066972, test_rmse: 4.960490\n",
            "traning iteration: 39 ,loss: 50282.563538, test_rmse: 4.979935\n",
            "traning iteration: 40 ,loss: 47933.704470, test_rmse: 4.999930\n",
            "traning iteration: 41 ,loss: 45773.215996, test_rmse: 5.029708\n",
            "traning iteration: 42 ,loss: 43741.639337, test_rmse: 5.068274\n",
            "traning iteration: 43 ,loss: 41748.577453, test_rmse: 5.100541\n",
            "traning iteration: 44 ,loss: 39823.708935, test_rmse: 5.119517\n",
            "traning iteration: 45 ,loss: 38060.751751, test_rmse: 5.130595\n",
            "traning iteration: 46 ,loss: 36452.349563, test_rmse: 5.131809\n",
            "traning iteration: 47 ,loss: 34883.534734, test_rmse: 5.115760\n",
            "traning iteration: 48 ,loss: 33409.960292, test_rmse: 5.089636\n",
            "traning iteration: 49 ,loss: 32052.292441, test_rmse: 5.058505\n",
            "traning iteration: 50 ,loss: 30761.940431, test_rmse: 5.016654\n",
            "traning iteration: 51 ,loss: 29546.425347, test_rmse: 4.964636\n",
            "traning iteration: 52 ,loss: 28416.895206, test_rmse: 4.910630\n",
            "traning iteration: 53 ,loss: 27350.735248, test_rmse: 4.857020\n",
            "traning iteration: 54 ,loss: 26349.477372, test_rmse: 4.803271\n",
            "traning iteration: 55 ,loss: 25424.273212, test_rmse: 4.755102\n",
            "traning iteration: 56 ,loss: 24547.558934, test_rmse: 4.716767\n",
            "traning iteration: 57 ,loss: 23753.017185, test_rmse: 4.686670\n",
            "traning iteration: 58 ,loss: 22999.571720, test_rmse: 4.661865\n",
            "traning iteration: 59 ,loss: 22288.472473, test_rmse: 4.643959\n",
            "traning iteration: 60 ,loss: 21639.375699, test_rmse: 4.631863\n",
            "traning iteration: 61 ,loss: 21040.783541, test_rmse: 4.621715\n",
            "traning iteration: 62 ,loss: 20472.135006, test_rmse: 4.613751\n",
            "traning iteration: 63 ,loss: 19924.359132, test_rmse: 4.608829\n",
            "traning iteration: 64 ,loss: 19412.171162, test_rmse: 4.604151\n",
            "traning iteration: 65 ,loss: 18929.969141, test_rmse: 4.597869\n",
            "traning iteration: 66 ,loss: 18472.444180, test_rmse: 4.591614\n",
            "traning iteration: 67 ,loss: 18037.050477, test_rmse: 4.584723\n",
            "traning iteration: 68 ,loss: 17624.284279, test_rmse: 4.574960\n",
            "traning iteration: 69 ,loss: 17236.444440, test_rmse: 4.563638\n",
            "traning iteration: 70 ,loss: 16868.229242, test_rmse: 4.552827\n",
            "traning iteration: 71 ,loss: 16518.231272, test_rmse: 4.541818\n",
            "traning iteration: 72 ,loss: 16182.426927, test_rmse: 4.530292\n",
            "traning iteration: 73 ,loss: 15860.666526, test_rmse: 4.520449\n",
            "traning iteration: 74 ,loss: 15549.632137, test_rmse: 4.513177\n",
            "traning iteration: 75 ,loss: 15250.454855, test_rmse: 4.507534\n",
            "traning iteration: 76 ,loss: 14971.036392, test_rmse: 4.503373\n",
            "traning iteration: 77 ,loss: 14705.837809, test_rmse: 4.500257\n",
            "traning iteration: 78 ,loss: 14451.654021, test_rmse: 4.496716\n",
            "traning iteration: 79 ,loss: 14206.400264, test_rmse: 4.492321\n",
            "constrained_over\n"
          ]
        }
      ]
    },
    {
      "cell_type": "code",
      "source": [
        "model2 = PMF(train_R = train_df,test_R = test_df, constrained= False)\n",
        "U2, V2, tr_loss_list2, test_rmse_list2 = model2.fit(test_data,df_matrix)\n",
        "preds2 = model2.predict(test_data=test_data)\n",
        "print(\"unconstrained_over\")"
      ],
      "metadata": {
        "colab": {
          "base_uri": "https://localhost:8080/"
        },
        "id": "bEvsCYA_MdlJ",
        "outputId": "d91bc95e-fa87-4572-ca79-512507c729a7"
      },
      "execution_count": null,
      "outputs": [
        {
          "output_type": "stream",
          "name": "stdout",
          "text": [
            "traning iteration: 0 ,loss: 1176026.613992, test_rmse: 33.320987\n",
            "traning iteration: 1 ,loss: 884211.289551, test_rmse: 27.254428\n",
            "traning iteration: 2 ,loss: 764043.036220, test_rmse: 25.239200\n",
            "traning iteration: 3 ,loss: 664069.696177, test_rmse: 23.017458\n",
            "traning iteration: 4 ,loss: 615115.576526, test_rmse: 21.940078\n",
            "traning iteration: 5 ,loss: 590837.530112, test_rmse: 21.787894\n",
            "traning iteration: 6 ,loss: 546526.739104, test_rmse: 20.840784\n",
            "traning iteration: 7 ,loss: 479602.988177, test_rmse: 18.803948\n",
            "traning iteration: 8 ,loss: 412998.192077, test_rmse: 16.770194\n",
            "traning iteration: 9 ,loss: 369142.906776, test_rmse: 15.639757\n",
            "traning iteration: 10 ,loss: 342918.136184, test_rmse: 15.053730\n",
            "traning iteration: 11 ,loss: 310657.125414, test_rmse: 14.077749\n",
            "traning iteration: 12 ,loss: 269417.333523, test_rmse: 12.584075\n",
            "traning iteration: 13 ,loss: 233681.849894, test_rmse: 11.107118\n",
            "traning iteration: 14 ,loss: 209214.546306, test_rmse: 9.984482\n",
            "traning iteration: 15 ,loss: 189172.867412, test_rmse: 9.138455\n",
            "traning iteration: 16 ,loss: 171917.095660, test_rmse: 8.541392\n",
            "traning iteration: 17 ,loss: 157413.343712, test_rmse: 8.133186\n",
            "traning iteration: 18 ,loss: 144184.109943, test_rmse: 7.798517\n",
            "traning iteration: 19 ,loss: 132298.058337, test_rmse: 7.465803\n",
            "traning iteration: 20 ,loss: 122143.452451, test_rmse: 7.117421\n",
            "traning iteration: 21 ,loss: 111003.133337, test_rmse: 6.720779\n",
            "traning iteration: 22 ,loss: 100768.015932, test_rmse: 6.350147\n",
            "traning iteration: 23 ,loss: 92337.113304, test_rmse: 6.018330\n",
            "traning iteration: 24 ,loss: 85626.158417, test_rmse: 5.756151\n",
            "traning iteration: 25 ,loss: 79022.919106, test_rmse: 5.532471\n",
            "traning iteration: 26 ,loss: 72766.314621, test_rmse: 5.311514\n",
            "traning iteration: 27 ,loss: 68173.967394, test_rmse: 5.143075\n",
            "traning iteration: 28 ,loss: 64342.606612, test_rmse: 5.003044\n",
            "traning iteration: 29 ,loss: 60227.205105, test_rmse: 4.849447\n",
            "traning iteration: 30 ,loss: 56412.784195, test_rmse: 4.704188\n",
            "traning iteration: 31 ,loss: 53124.374670, test_rmse: 4.548518\n",
            "traning iteration: 32 ,loss: 50058.525589, test_rmse: 4.389880\n",
            "traning iteration: 33 ,loss: 46900.654068, test_rmse: 4.249556\n",
            "traning iteration: 34 ,loss: 44116.607044, test_rmse: 4.109334\n",
            "traning iteration: 35 ,loss: 41533.338025, test_rmse: 3.991567\n",
            "traning iteration: 36 ,loss: 39460.737641, test_rmse: 3.911628\n",
            "traning iteration: 37 ,loss: 37422.184661, test_rmse: 3.845892\n",
            "traning iteration: 38 ,loss: 35467.187499, test_rmse: 3.809106\n",
            "traning iteration: 39 ,loss: 33936.249533, test_rmse: 3.782654\n",
            "traning iteration: 40 ,loss: 32135.790694, test_rmse: 3.759493\n",
            "traning iteration: 41 ,loss: 30719.419080, test_rmse: 3.758388\n",
            "traning iteration: 42 ,loss: 29339.316988, test_rmse: 3.753099\n",
            "traning iteration: 43 ,loss: 28059.048380, test_rmse: 3.762231\n",
            "traning iteration: 44 ,loss: 26791.959480, test_rmse: 3.765883\n",
            "traning iteration: 45 ,loss: 25735.422604, test_rmse: 3.769202\n",
            "traning iteration: 46 ,loss: 24764.285492, test_rmse: 3.767214\n",
            "traning iteration: 47 ,loss: 23815.637001, test_rmse: 3.756569\n",
            "traning iteration: 48 ,loss: 22934.092419, test_rmse: 3.747758\n",
            "traning iteration: 49 ,loss: 22090.925778, test_rmse: 3.725604\n",
            "traning iteration: 50 ,loss: 21256.813887, test_rmse: 3.704385\n",
            "traning iteration: 51 ,loss: 20580.502795, test_rmse: 3.683183\n",
            "traning iteration: 52 ,loss: 19955.567623, test_rmse: 3.660250\n",
            "traning iteration: 53 ,loss: 19320.625139, test_rmse: 3.637446\n",
            "traning iteration: 54 ,loss: 18716.629277, test_rmse: 3.608372\n",
            "traning iteration: 55 ,loss: 18143.281616, test_rmse: 3.585553\n",
            "traning iteration: 56 ,loss: 17628.917547, test_rmse: 3.561388\n",
            "traning iteration: 57 ,loss: 17151.037909, test_rmse: 3.539869\n",
            "traning iteration: 58 ,loss: 16694.006525, test_rmse: 3.525605\n",
            "traning iteration: 59 ,loss: 16265.371336, test_rmse: 3.513247\n",
            "traning iteration: 60 ,loss: 15862.741850, test_rmse: 3.505484\n",
            "traning iteration: 61 ,loss: 15498.656819, test_rmse: 3.498638\n",
            "traning iteration: 62 ,loss: 15141.739924, test_rmse: 3.497188\n",
            "traning iteration: 63 ,loss: 14815.696989, test_rmse: 3.498302\n",
            "traning iteration: 64 ,loss: 14499.622553, test_rmse: 3.497752\n",
            "traning iteration: 65 ,loss: 14202.995183, test_rmse: 3.500072\n",
            "traning iteration: 66 ,loss: 13917.083867, test_rmse: 3.502730\n",
            "traning iteration: 67 ,loss: 13647.057553, test_rmse: 3.508561\n",
            "traning iteration: 68 ,loss: 13382.979413, test_rmse: 3.511609\n",
            "traning iteration: 69 ,loss: 13143.462064, test_rmse: 3.512926\n",
            "traning iteration: 70 ,loss: 12912.936498, test_rmse: 3.515877\n",
            "traning iteration: 71 ,loss: 12685.201751, test_rmse: 3.516334\n",
            "traning iteration: 72 ,loss: 12476.716807, test_rmse: 3.517462\n",
            "traning iteration: 73 ,loss: 12281.071933, test_rmse: 3.517113\n",
            "traning iteration: 74 ,loss: 12094.989592, test_rmse: 3.515815\n",
            "traning iteration: 75 ,loss: 11911.338886, test_rmse: 3.514783\n",
            "traning iteration: 76 ,loss: 11731.840939, test_rmse: 3.512044\n",
            "traning iteration: 77 ,loss: 11564.952816, test_rmse: 3.510389\n",
            "traning iteration: 78 ,loss: 11401.254270, test_rmse: 3.508832\n",
            "traning iteration: 79 ,loss: 11245.614027, test_rmse: 3.507819\n",
            "unconstrained_over\n"
          ]
        }
      ]
    },
    {
      "cell_type": "code",
      "source": [
        "plt.plot(tr_loss_list1, 'r')\n",
        "\n",
        "plt.plot(tr_loss_list2, 'g')\n",
        "plt.title('movie-lens dataset')\n",
        "plt.xlabel('Iteration')\n",
        "plt.ylabel('Train-Loss')\n",
        "\n",
        "plt.show()"
      ],
      "metadata": {
        "colab": {
          "base_uri": "https://localhost:8080/",
          "height": 472
        },
        "id": "a9bFB_4WMm3T",
        "outputId": "2f90a86f-9c33-4339-c049-804a11ce9e19"
      },
      "execution_count": null,
      "outputs": [
        {
          "output_type": "display_data",
          "data": {
            "text/plain": [
              "<Figure size 640x480 with 1 Axes>"
            ],
            "image/png": "[encoded data removed]"
          },
          "metadata": {}
        }
      ]
    },
    {
      "cell_type": "code",
      "source": [
        "torch.cuda.is_available()"
      ],
      "metadata": {
        "id": "KzpFk4OXUpAv",
        "colab": {
          "base_uri": "https://localhost:8080/"
        },
        "outputId": "dfea0cfb-3ac0-44eb-f549-ff2b20589ff7"
      },
      "execution_count": null,
      "outputs": [
        {
          "output_type": "execute_result",
          "data": {
            "text/plain": [
              "False"
            ]
          },
          "metadata": {},
          "execution_count": 12
        }
      ]
    }
  ]
}