{
  "nbformat": 4,
  "nbformat_minor": 0,
  "metadata": {
    "colab": {
      "provenance": []
    },
    "kernelspec": {
      "name": "python3",
      "display_name": "Python 3"
    },
    "language_info": {
      "name": "python"
    }
  },
  "cells": [
    {
      "cell_type": "code",
      "execution_count": 1,
      "metadata": {
        "colab": {
          "base_uri": "https://localhost:8080/"
        },
        "id": "Kgpdhvi1dwDs",
        "outputId": "38ad8228-1796-4b5c-f8a6-19f37d145238"
      },
      "outputs": [
        {
          "output_type": "stream",
          "name": "stdout",
          "text": [
            "Mounted at /content/drive\n"
          ]
        }
      ],
      "source": [
        "from google.colab import drive\n",
        "drive.mount('/content/drive')"
      ]
    },
    {
      "cell_type": "code",
      "source": [
        "INPUT_DIR='/content/drive/MyDrive/DSAIL/ml-100k/'\n",
        "OUTPUT_DIR='/content/drive/MyDrive/DSAIL/ml-100k/'"
      ],
      "metadata": {
        "id": "B82gqiC0dyWI"
      },
      "execution_count": 2,
      "outputs": []
    },
    {
      "cell_type": "code",
      "source": [
        "import torch\n",
        "from torch.utils.data import Dataset\n",
        "\n",
        "\n",
        "class Data(Dataset):\n",
        "    def __init__(self,train, base):\n",
        "        super(Data, self).__init__()\n",
        "        self.train = train\n",
        "        self.base = base\n",
        "        self.n_user, self.n_item = train.shape\n",
        "\n",
        "    def __len__(self):\n",
        "        if self.base == 'item':\n",
        "            return self.n_item\n",
        "        elif self.base == 'user':\n",
        "            return self.n_user\n",
        "\n",
        "    def __getitem__(self, idx):\n",
        "        if self.base == 'item':\n",
        "            return torch.tensor(self.train.iloc[:, idx].values).float()\n",
        "        elif self.base == 'user':\n",
        "            return torch.tensor(self.train.iloc[idx, :].values).float()\n",
        "\n"
      ],
      "metadata": {
        "id": "yaeYKrw_eH30"
      },
      "execution_count": 7,
      "outputs": []
    },
    {
      "cell_type": "code",
      "source": [
        "import torch.nn as nn\n",
        "import torch.nn.functional as F\n",
        "\n",
        "\n",
        "class AutoRec(nn.Module):\n",
        "    def __init__(self, input, hidden, output):\n",
        "        super(AutoRec, self).__init__()\n",
        "        self.enc = nn.Linear(input, hidden)\n",
        "        self.dec = nn.Linear(hidden, output)\n",
        "        self.activate = F.sigmoid\n",
        "\n",
        "\n",
        "    def forward(self, x):\n",
        "        x = self.activate(self.enc(x))\n",
        "        x = self.dec(x)\n",
        "        return x"
      ],
      "metadata": {
        "id": "fI5A62C7fGmZ"
      },
      "execution_count": 5,
      "outputs": []
    },
    {
      "cell_type": "code",
      "source": [
        "import numpy as np\n",
        "import pandas as pd\n",
        "import os, sys\n",
        "from collections import defaultdict\n",
        "import torch\n",
        "import torch.nn as nn\n",
        "from torch.utils.data import Dataset, DataLoader\n",
        "import torch.optim as optim\n",
        "import torch.nn.functional as F\n",
        "\n",
        "\n",
        "ratings = pd.read_csv(INPUT_DIR + 'u.data', sep='\\t', names = [\"userId\", \"movieId\", \"rating\", \"timestamp\"])\n",
        "ratings_df = ratings.drop(columns=['timestamp'])\n",
        "train_df = ratings_df.pivot_table(index='userId', columns='movieId', values ='rating')\n",
        "train = train_df.fillna(-1)\n",
        "\n",
        "class Config:\n",
        "    lr = 0.01\n",
        "    weight_decay = 5e-4\n",
        "    base = 'item'\n",
        "    batch_size = 64\n",
        "    input = train.shape[0] if base == 'item' else train.shape[1]\n",
        "    hidden = 15\n",
        "    epochs = 50\n",
        "    device = 'cuda' if torch.cuda.is_available() else 'cpu'\n",
        "\n",
        "config = Config()\n",
        "\n",
        "trainset = Data(train, config.base)\n",
        "trainloader = DataLoader(trainset, batch_size=config.batch_size, shuffle=False, drop_last=False)\n",
        "\n",
        "model = AutoRec(input=config.input, hidden=config.hidden, output=config.input)\n",
        "model = model.to(config.device)\n",
        "optimizer = optim.Adam(model.parameters(), lr=config.lr, weight_decay=config.weight_decay)\n",
        "\n",
        "history = defaultdict(list)\n",
        "for epoch in range(config.epochs):\n",
        "    model.train()\n",
        "    losses = []\n",
        "    for x in trainloader:\n",
        "        optimizer.zero_grad()\n",
        "        x = x.to(config.device)\n",
        "        mask = x > 0\n",
        "        pred = model(x)\n",
        "        loss = torch.mean(((x - pred)[mask])**2)\n",
        "        loss.backward()\n",
        "        optimizer.step()\n",
        "        losses.append(np.sqrt(loss.item()))\n",
        "    history['tr'].append(np.mean(losses))\n",
        "\n",
        "    model.eval()\n",
        "\n",
        "    print(f'EPOCH {epoch+1}: TRAINING loss {history[\"tr\"][-1]} ')\n"
      ],
      "metadata": {
        "colab": {
          "base_uri": "https://localhost:8080/"
        },
        "id": "tpZ-Jd0yfLfl",
        "outputId": "d20e5b7f-25ba-42ae-b364-800894274c82"
      },
      "execution_count": 10,
      "outputs": [
        {
          "output_type": "stream",
          "name": "stdout",
          "text": [
            "EPOCH 1: TRAINING loss 2.194726356182296 \n",
            "EPOCH 2: TRAINING loss 1.1950491632672182 \n",
            "EPOCH 3: TRAINING loss 1.0494047980859247 \n",
            "EPOCH 4: TRAINING loss 1.026232110525059 \n",
            "EPOCH 5: TRAINING loss 1.0231408060102103 \n",
            "EPOCH 6: TRAINING loss 1.0163950808798998 \n",
            "EPOCH 7: TRAINING loss 1.0190446283405246 \n",
            "EPOCH 8: TRAINING loss 0.9999765257631107 \n",
            "EPOCH 9: TRAINING loss 0.9807423248499565 \n",
            "EPOCH 10: TRAINING loss 0.9878623355743318 \n",
            "EPOCH 11: TRAINING loss 0.9771255286469841 \n",
            "EPOCH 12: TRAINING loss 0.9755193258017121 \n",
            "EPOCH 13: TRAINING loss 0.9758283048532763 \n",
            "EPOCH 14: TRAINING loss 0.9866841464096077 \n",
            "EPOCH 15: TRAINING loss 0.9743876358833504 \n",
            "EPOCH 16: TRAINING loss 0.9626589587822244 \n",
            "EPOCH 17: TRAINING loss 0.9524971054430774 \n",
            "EPOCH 18: TRAINING loss 0.9536370551360182 \n",
            "EPOCH 19: TRAINING loss 0.9509622625063765 \n",
            "EPOCH 20: TRAINING loss 0.9589213017539637 \n",
            "EPOCH 21: TRAINING loss 0.9549718755645991 \n",
            "EPOCH 22: TRAINING loss 0.9493828446844073 \n",
            "EPOCH 23: TRAINING loss 0.9484991738359535 \n",
            "EPOCH 24: TRAINING loss 0.940192975303423 \n",
            "EPOCH 25: TRAINING loss 0.9382300105701188 \n",
            "EPOCH 26: TRAINING loss 0.9429749002332654 \n",
            "EPOCH 27: TRAINING loss 0.9469446620713378 \n",
            "EPOCH 28: TRAINING loss 0.9614935510897354 \n",
            "EPOCH 29: TRAINING loss 0.9552638176601318 \n",
            "EPOCH 30: TRAINING loss 0.9343375454370801 \n",
            "EPOCH 31: TRAINING loss 0.9333254976125718 \n",
            "EPOCH 32: TRAINING loss 0.9262894088580518 \n",
            "EPOCH 33: TRAINING loss 0.9258334032514003 \n",
            "EPOCH 34: TRAINING loss 0.924590111628809 \n",
            "EPOCH 35: TRAINING loss 0.9299618596728535 \n",
            "EPOCH 36: TRAINING loss 0.927638119412592 \n",
            "EPOCH 37: TRAINING loss 0.9380855524178559 \n",
            "EPOCH 38: TRAINING loss 0.9480666464339677 \n",
            "EPOCH 39: TRAINING loss 0.9581081970577698 \n",
            "EPOCH 40: TRAINING loss 0.953870245131862 \n",
            "EPOCH 41: TRAINING loss 0.9469373672293862 \n",
            "EPOCH 42: TRAINING loss 0.9206397342484683 \n",
            "EPOCH 43: TRAINING loss 0.9269749216127083 \n",
            "EPOCH 44: TRAINING loss 0.9145789884615823 \n",
            "EPOCH 45: TRAINING loss 0.965791757990256 \n",
            "EPOCH 46: TRAINING loss 0.96968376160077 \n",
            "EPOCH 47: TRAINING loss 0.9486005951098198 \n",
            "EPOCH 48: TRAINING loss 0.9666289312853131 \n",
            "EPOCH 49: TRAINING loss 0.9583127099179775 \n",
            "EPOCH 50: TRAINING loss 0.9488413778951683 \n"
          ]
        }
      ]
    },
    {
      "cell_type": "code",
      "source": [],
      "metadata": {
        "id": "3a13oBUxgEpX"
      },
      "execution_count": null,
      "outputs": []
    }
  ]
}