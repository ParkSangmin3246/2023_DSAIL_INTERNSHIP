import torch
import torchvision
import torch.nn
from google.colab import drive
drive.mount('/content/drive')
import os
import numpy as np
import pandas as pd
import warnings
from sklearn.model_selection import train_test_split
from tables.table import NoSuchNodeError
from sklearn.metrics import mean_squared_error
from sklearn.metrics import roc_auc_score
import matplotlib.pyplot as plt
import math
import copy
warnings.filterwarnings('ignore')
INPUT_DIR='/content/drive/MyDrive/DSAIL/data'
OUTPUT_DIR='/content/drive/MyDrive/DSAIL/data'

ratings = pd.read_csv(os.path.join(INPUT_DIR, 'ratings.csv'))
ratings_df = ratings.drop(columns=['timestamp'])

#userId x moveId , cell : rating인 matrix
table_df = ratings_df.pivot_table(index='userId', columns='movieId', values ='rating')
df_matrix = table_df.to_numpy()
df_matrix = np.nan_to_num(df_matrix)

#implicit : 0과 1로만 표현
df_matrix[df_matrix>0]=1

row_sums = np.sum(df_matrix,axis=1)
col_sums = np.sum(df_matrix,axis=0)

row_keep = row_sums>=10
col_keep = col_sums>=10

user_movie_data = df_matrix[row_keep][:,col_keep]

test_set = np.zeros(user_movie_data.shape)
test_pair = []
for row in range (user_movie_data.shape[0]):
  test_ele = np.random.randint(0,user_movie_data.shape[1])
  test_set[row][test_ele] = user_movie_data[row][test_ele]
  user_movie_data[row][test_ele] = 0
  test_pair.append([row,test_ele])

class BPR_MF:
  def __init__(self,learning_rate = 0.01, features = 20, lbd = 0.01, data = None):
    self.learning_rate = learning_rate
    self.features = features
    self.lbd = lbd
    self.data = data
    self.user_feat = None
    self.item_feat = None
    print("features")
    print(self.features)

  def fit(self):
    #일단 user x feature, item x feature를 초기에 random하게 생성
    user_feat = np.random.random((self.data.shape[0],self.features))
    item_feat = np.random.random((self.data.shape[1],self.features))
    auc = []
    predicted = []
    truevalue = []
    epochs = []

    for itr in range(1000001):
      u = np.random.choice(range(self.data.shape[0]))
      u_feat = copy.deepcopy(self.data[u])
      i = np.random.choice(np.where(u_feat==1)[0])
      j = np.random.choice(np.where(u_feat==0)[0])

      w_u = user_feat[u,:]
      h_i = item_feat[i,:]
      h_j = item_feat[j,:]

      x_uij = np.dot(w_u,h_i) - np.dot(w_u,h_j)
      exp = np.exp(-x_uij) / (1 + np.exp(-x_uij))

      grad_wu = exp * (h_i-h_j) + self.lbd * w_u
      user_feat[u,:] = user_feat[u,:] + self.learning_rate * grad_wu

      grad_hi = exp * (w_u) + self.lbd * h_i
      item_feat[i,:] = item_feat[i,:] + self.learning_rate * grad_hi

      grad_hj = exp * (-w_u) + self.lbd * h_j
      item_feat[j,:] = item_feat[j,:] + self.learning_rate * grad_hj

      if(x_uij>0):
        predicted.append(1)
      else:
        predicted.append(0)
      #해당 유저의 movie i와 movie j를 비교해서 보자.
      if(self.data[u][i]==1 and self.data[u][j]==0):
        truevalue.append(1)
      else:
        truevalue.append(0)
      if(itr%100000==0):
        if not(sum(truevalue)==0 and itr !=0):
          epochs.append(itr)
          auc.append(sum(predicted)/sum(truevalue))
          print(str(itr) + "th auc is : " + str(auc[-1]))



    self.user_feat = user_feat
    self.item_feat = item_feat

    return epochs, auc

  def test(self,pair,test_set):
    #pair에 있는 애들만 가지고 진행한다.
    test_predict=[]
    gr_truth = []
    tst_epchs = []
    rss = 0

    auc_test = 0
    for m in range(len(pair)):
      #나머지 중에 item고르기
      num_range = np.array(list(range(len(pair))))
      filter_num = np.delete(num_range, np.where(num_range==pair[m][1]))
      another = np.random.choice(filter_num)
      test_user_feat = self.user_feat[m,:]
      test_i_feat = self.item_feat[pair[m][1],:]
      test_j_feat = self.item_feat[another,:]
      test_xuij = np.dot(test_user_feat,test_i_feat) - np.dot(test_user_feat,test_j_feat)

      if(test_set[m][pair[m][1]]==1 and self.data[m][another]==0):
        gr_truth.append(1)
        if(test_xuij>0):
          test_predict.append(1)
        else:
          test_predict.append(0)

    auc_test = np.sum(test_predict)/np.sum(gr_truth)
    return auc_test

bpr_mf_model = BPR_MF(0.01,20,0.01,user_movie_data)
mf_epochs, mf_auc = bpr_mf_model.fit()
mf_auc[0]=0

bpr_mf_auc = bpr_mf_model.test(test_pair,test_set)
print(bpr_mf_auc)

plt.plot(mf_epochs, mf_auc)
plt.ylim(0, 1.0)
plt.title('ML-100k')
plt.xlabel('Number of iterations')
plt.ylabel('AUC')
plt.legend('BPR-MF')
plt.show()

class BPR_KNN:
  def __init__(self,learning_rate = 0.01, lbd = 0.01, data = None):
    self.learning_rate = learning_rate
    self.lbd = lbd
    self.data = data
    self.c_item = np.random.random((self.data.shape[1],self.data.shape[1]))


  def fit(self):
    auc = []
    predicted = []
    truevalue = []
    epochs = []

    for itr in range(1000001):
      u = np.random.choice(range(self.data.shape[0]))
      u_feat = copy.deepcopy(self.data[u])
      i = np.random.choice(np.where(u_feat==1)[0])
      j = np.random.choice(np.where(u_feat==0)[0])

      #C에서 읽도록 u가 ratings에서 (i제외) 평가했던 항목들의 위치를 읽어온다.
      compare_list_temp_i = np.nonzero(self.data[u])[0]
      compare_location_i = compare_list_temp_i[compare_list_temp_i!=i]

      #c_il 들 의 위치를 위해 우선 ith row를 지정하고 나머지는 compare list의 위치로 찾아준다. 여기엔 이제 위치가 아니라 cli의 값들이 담긴거야.
      compare_list_i = self.c_item[i][compare_location_i]
      x_ui = np.sum(compare_list_i)

      #j에대해 동일과정 반복. [0]은 (list,공백)인 형태로 나와서 해준거다.
      compare_list_temp_j = np.nonzero(self.data[u])[0]
      compare_location_j = compare_list_temp_j[compare_list_temp_j!=j]

      compare_list_j = self.c_item[j][compare_location_j]
      x_uj = np.sum(compare_list_j)

      x_uij = x_ui-x_uj
      exp = np.exp(-x_uij) / (1 + np.exp(-x_uij))

      grad_ci = exp * 1 + self.lbd * self.c_item[i, compare_location_i]
      grad_cj = exp * (-1) + self.lbd * self.c_item[j, compare_location_j]

      #이제 갱신을 해주었다. c를
      self.c_item[i,compare_location_i] = self.c_item[i,compare_location_i] + self.learning_rate * grad_ci
      self.c_item[j,compare_location_j] = self.c_item[j,compare_location_j] + self.learning_rate * grad_cj

      if(x_uij>0):
        predicted.append(1)
      else:
        predicted.append(0)
      #해당 유저의 movie i와 movie j를 비교해서 보자.
      if(self.data[u][i]==1 and self.data[u][j]==0):
        truevalue.append(1)
      else:
        truevalue.append(0)
      if(itr%100000==0):
        if not(sum(truevalue)==0 and itr !=0):
          epochs.append(itr)
          auc.append(sum(predicted)/sum(truevalue))
          print(str(itr) + "th auc is : " + str(auc[-1]))


    return epochs, auc


  def test(self,pair,test_set):
    #pair에 있는 애들만 가지고 진행한다.
    test_predict=[]
    gr_truth = []
    tst_epchs = []
    bpr_knn_auc = 0
    for m in range(len(pair)):
      #나머지 중에 item고르기
      num_range = np.array(list(range(len(pair))))
      filter_num = np.delete(num_range, np.where(num_range==pair[m][1]))
      another = np.random.choice(filter_num)

########
      #C에서 읽도록 u가 ratings에서 (i제외) 평가했던 항목들의 위치를 읽어온다.
      compare_list_temp_i = np.nonzero(self.data[m])[0]
      compare_location_i = compare_list_temp_i[compare_list_temp_i!=pair[m][0]]

      #c_il 들 의 위치를 위해 우선 ith row를 지정하고 나머지는 compare list의 위치로 찾아준다. 여기엔 이제 위치가 아니라 cli의 값들이 담긴거야.
      compare_list_i = self.c_item[pair[m][0]][compare_location_i]
      x_ui = np.sum(compare_list_i)

      #j에대해 동일과정 반복. [0]은 (list,공백)인 형태로 나와서 해준거다.
      compare_list_temp_j = np.nonzero(self.data[m])[0]
      compare_location_j = compare_list_temp_j[compare_list_temp_j!=another]

      compare_list_j = self.c_item[another][compare_location_j]
      x_uj = np.sum(compare_list_j)
######

      test_xuij = x_ui-x_uj

      if(test_set[m][pair[m][1]]==1 and self.data[m][another]==0):
        gr_truth.append(1)
        if(test_xuij>0):
          test_predict.append(1)
        else:
          test_predict.append(0)
    bpr_knn_auc = np.sum(test_predict)/np.sum(gr_truth)
    return bpr_knn_auc

bpr_knn_model = BPR_KNN(0.01,0.01,user_movie_data)
knn_epochs, knn_auc = bpr_knn_model.fit()
knn_auc[0] = 0

knn_mf_auc = bpr_knn_model.test(test_pair,test_set)
print(knn_mf_auc)

plt.plot(knn_epochs, knn_auc)
plt.ylim(0, 1.0)
plt.title('ML-100k')
plt.xlabel('Number of iterations')
plt.ylabel('AUC')
plt.legend('KNN-MF')
plt.show()

class COSINE_KNN:
  def __init__(self,learning_rate = 0.01, lbd = 0.01, data = None):
    self.learning_rate = learning_rate
    self.lbd = lbd
    self.data = data
    item_data = data.T
    product = np.dot(item_data,item_data.T)
    product_norm = np.linalg.norm(product, ord=1, axis=1, keepdims=True)
    norm = np.linalg.norm(item_data, ord=1, axis=1, keepdims=True)
    self.c = product / np.sqrt(norm * norm.T)

  def fit(self):
    auc = []
    predicted = []
    truevalue = []
    epochs = []

    for itr in range(1000001):
      u = np.random.choice(range(self.data.shape[0]))
      u_feat = copy.deepcopy(self.data[u])
      i = np.random.choice(np.where(u_feat==1)[0])
      j = np.random.choice(np.where(u_feat==0)[0])

      #C에서 읽도록 u가 ratings에서 (i제외) 평가했던 항목들의 위치를 읽어온다.
      compare_list_temp_i = np.nonzero(self.data[u])[0]
      compare_location_i = compare_list_temp_i[compare_list_temp_i!=i]

      #c_il 들 의 위치를 위해 우선 ith row를 지정하고 나머지는 compare list의 위치로 찾아준다. 여기엔 이제 위치가 아니라 cli의 값들이 담긴거야.
      compare_list_i = self.c[i][compare_location_i]
      x_ui = np.sum(compare_list_i)

      #j에대해 동일과정 반복. [0]은 (list,공백)인 형태로 나와서 해준거다.
      compare_list_temp_j = np.nonzero(self.data[u])[0]
      compare_location_j = compare_list_temp_j[compare_list_temp_j!=j]

      compare_list_j = self.c[j][compare_location_j]
      x_uj = np.sum(compare_list_j)

      x_uij = x_ui-x_uj

      if(x_uij>0):
        predicted.append(1)
      else:
        predicted.append(0)
      #해당 유저의 movie i와 movie j를 비교해서 보자.
      if(self.data[u][i]==1 and self.data[u][j]==0):
        truevalue.append(1)
      else:
        truevalue.append(0)
      if(itr%100000==0):
        if not(sum(truevalue)==0 and itr !=0):
          epochs.append(itr)
          auc.append(sum(predicted)/sum(truevalue))
          print(str(itr) + "th auc is : " + str(auc[-1]))


    return epochs, auc

  def test(self,pair,test_set):
    #pair에 있는 애들만 가지고 진행한다.
    test_predict=[]
    gr_truth = []
    tst_epchs = []
    cosine_knn_auc = 0
    for m in range(len(pair)):
      #나머지 중에 item고르기
      num_range = np.array(list(range(len(pair))))
      filter_num = np.delete(num_range, np.where(num_range==pair[m][1]))
      another = np.random.choice(filter_num)

      #C에서 읽도록 u가 ratings에서 (i제외) 평가했던 항목들의 위치를 읽어온다.
      compare_list_temp_i = np.nonzero(self.data[m])[0]
      compare_location_i = compare_list_temp_i[compare_list_temp_i!=pair[m][0]]

      #c_il 들 의 위치를 위해 우선 ith row를 지정하고 나머지는 compare list의 위치로 찾아준다. 여기엔 이제 위치가 아니라 cli의 값들이 담긴거야.
      compare_list_i = self.c[pair[m][0]][compare_location_i]
      x_ui = np.sum(compare_list_i)

      #j에대해 동일과정 반복. [0]은 (list,공백)인 형태로 나와서 해준거다.
      compare_list_temp_j = np.nonzero(self.data[m])[0]
      compare_location_j = compare_list_temp_j[compare_list_temp_j!=another]

      compare_list_j = self.c[another][compare_location_j]
      x_uj = np.sum(compare_list_j)

      test_xuij = x_ui-x_uj
      if(test_set[m][pair[m][1]]==1 and self.data[m][another]==0):
        gr_truth.append(1)
        if(test_xuij>0):
          test_predict.append(1)
        else:
          test_predict.append(0)
      cosine_knn_auc = np.sum(test_predict)/np.sum(gr_truth)
    return cosine_knn_auc

cosine_knn_model = COSINE_KNN(0.01,20,0.01,user_movie_data)
cosine_epochs, cosine_auc = cosine_knn_model.fit()
cosine_auc[0] = 0

cosine_knn_auc = cosine_knn_model.test(test_pair,test_set)
print(cosine_knn_auc)

categories = ['BPR_MF', 'BPR_KNN', 'COSINE_KNN']
values = [bpr_mf_auc, knn_mf_auc, cosine_knn_auc]

plt.bar(categories, values)
plt.xlabel('Approaches')
plt.ylabel('TEST AUC')
plt.title('Comparison of BPRMF,BPRKNN,COSINEKNN')

plt.show()

feature_size = [10,20,30,40,50]
auc_result = []
for fsize in feature_size:
  bpr_mf_model = BPR_MF(0.01,fsize,10,0.01,user_movie_data)
  mf_epochs, mf_auc = bpr_mf_model.fit()
  auc_result.append(mf_auc[-1])

