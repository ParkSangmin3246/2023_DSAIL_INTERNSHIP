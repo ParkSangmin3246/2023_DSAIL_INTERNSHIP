{
  "nbformat": 4,
  "nbformat_minor": 0,
  "metadata": {
    "colab": {
      "provenance": []
    },
    "kernelspec": {
      "name": "python3",
      "display_name": "Python 3"
    },
    "language_info": {
      "name": "python"
    }
  },
  "cells": [
    {
      "cell_type": "markdown",
      "source": [
        "# BPR IMPLEMENTATION"
      ],
      "metadata": {
        "id": "H9vmpyOukWtM"
      }
    },
    {
      "cell_type": "code",
      "source": [
        "import torch\n",
        "import torchvision\n",
        "import torch.nn"
      ],
      "metadata": {
        "id": "XX_Mqm6VkZPk"
      },
      "execution_count": 1,
      "outputs": []
    },
    {
      "cell_type": "code",
      "source": [
        "from google.colab import drive\n",
        "drive.mount('/content/drive')"
      ],
      "metadata": {
        "colab": {
          "base_uri": "https://localhost:8080/"
        },
        "id": "rLHLdz0UkktN",
        "outputId": "42ea33b7-1349-4b5f-de9c-e7e76b1c614a"
      },
      "execution_count": 2,
      "outputs": [
        {
          "output_type": "stream",
          "name": "stdout",
          "text": [
            "Mounted at /content/drive\n"
          ]
        }
      ]
    },
    {
      "cell_type": "code",
      "source": [
        "import os\n",
        "import numpy as np\n",
        "import pandas as pd\n",
        "import warnings\n",
        "from sklearn.model_selection import train_test_split\n",
        "from tables.table import NoSuchNodeError\n",
        "from sklearn.metrics import mean_squared_error\n",
        "from sklearn.metrics import roc_auc_score\n",
        "\n",
        "import matplotlib.pyplot as plt\n",
        "import math\n",
        "import copy\n",
        "warnings.filterwarnings('ignore')"
      ],
      "metadata": {
        "id": "moy2zPmXkqBA"
      },
      "execution_count": 3,
      "outputs": []
    },
    {
      "cell_type": "code",
      "source": [
        "INPUT_DIR='/content/drive/MyDrive/DSAIL/data'\n",
        "OUTPUT_DIR='/content/drive/MyDrive/DSAIL/data'"
      ],
      "metadata": {
        "id": "mHH3nAmokx36"
      },
      "execution_count": 4,
      "outputs": []
    },
    {
      "cell_type": "code",
      "source": [
        "ratings = pd.read_csv(os.path.join(INPUT_DIR, 'ratings.csv'))"
      ],
      "metadata": {
        "id": "F3kSb7RUkz57"
      },
      "execution_count": 5,
      "outputs": []
    },
    {
      "cell_type": "code",
      "source": [
        "ratings_df = ratings.drop(columns=['timestamp'])\n",
        "ratings_df"
      ],
      "metadata": {
        "colab": {
          "base_uri": "https://localhost:8080/",
          "height": 423
        },
        "id": "xe1w9vz_k3BY",
        "outputId": "8b65182e-00b4-4d56-cdda-72eba5403701"
      },
      "execution_count": 6,
      "outputs": [
        {
          "output_type": "execute_result",
          "data": {
            "text/plain": [
              "        userId  movieId  rating\n",
              "0            1        1     4.0\n",
              "1            1        3     4.0\n",
              "2            1        6     4.0\n",
              "3            1       47     5.0\n",
              "4            1       50     5.0\n",
              "...        ...      ...     ...\n",
              "100831     610   166534     4.0\n",
              "100832     610   168248     5.0\n",
              "100833     610   168250     5.0\n",
              "100834     610   168252     5.0\n",
              "100835     610   170875     3.0\n",
              "\n",
              "[100836 rows x 3 columns]"
            ],
            "text/html": [
              "\n",
              "  <div id=\"df-632a4566-d863-40f2-a440-67ff6e3bae9d\">\n",
              "    <div class=\"colab-df-container\">\n",
              "      <div>\n",
              "<style scoped>\n",
              "    .dataframe tbody tr th:only-of-type {\n",
              "        vertical-align: middle;\n",
              "    }\n",
              "\n",
              "    .dataframe tbody tr th {\n",
              "        vertical-align: top;\n",
              "    }\n",
              "\n",
              "    .dataframe thead th {\n",
              "        text-align: right;\n",
              "    }\n",
              "</style>\n",
              "<table border=\"1\" class=\"dataframe\">\n",
              "  <thead>\n",
              "    <tr style=\"text-align: right;\">\n",
              "      <th></th>\n",
              "      <th>userId</th>\n",
              "      <th>movieId</th>\n",
              "      <th>rating</th>\n",
              "    </tr>\n",
              "  </thead>\n",
              "  <tbody>\n",
              "    <tr>\n",
              "      <th>0</th>\n",
              "      <td>1</td>\n",
              "      <td>1</td>\n",
              "      <td>4.0</td>\n",
              "    </tr>\n",
              "    <tr>\n",
              "      <th>1</th>\n",
              "      <td>1</td>\n",
              "      <td>3</td>\n",
              "      <td>4.0</td>\n",
              "    </tr>\n",
              "    <tr>\n",
              "      <th>2</th>\n",
              "      <td>1</td>\n",
              "      <td>6</td>\n",
              "      <td>4.0</td>\n",
              "    </tr>\n",
              "    <tr>\n",
              "      <th>3</th>\n",
              "      <td>1</td>\n",
              "      <td>47</td>\n",
              "      <td>5.0</td>\n",
              "    </tr>\n",
              "    <tr>\n",
              "      <th>4</th>\n",
              "      <td>1</td>\n",
              "      <td>50</td>\n",
              "      <td>5.0</td>\n",
              "    </tr>\n",
              "    <tr>\n",
              "      <th>...</th>\n",
              "      <td>...</td>\n",
              "      <td>...</td>\n",
              "      <td>...</td>\n",
              "    </tr>\n",
              "    <tr>\n",
              "      <th>100831</th>\n",
              "      <td>610</td>\n",
              "      <td>166534</td>\n",
              "      <td>4.0</td>\n",
              "    </tr>\n",
              "    <tr>\n",
              "      <th>100832</th>\n",
              "      <td>610</td>\n",
              "      <td>168248</td>\n",
              "      <td>5.0</td>\n",
              "    </tr>\n",
              "    <tr>\n",
              "      <th>100833</th>\n",
              "      <td>610</td>\n",
              "      <td>168250</td>\n",
              "      <td>5.0</td>\n",
              "    </tr>\n",
              "    <tr>\n",
              "      <th>100834</th>\n",
              "      <td>610</td>\n",
              "      <td>168252</td>\n",
              "      <td>5.0</td>\n",
              "    </tr>\n",
              "    <tr>\n",
              "      <th>100835</th>\n",
              "      <td>610</td>\n",
              "      <td>170875</td>\n",
              "      <td>3.0</td>\n",
              "    </tr>\n",
              "  </tbody>\n",
              "</table>\n",
              "<p>100836 rows × 3 columns</p>\n",
              "</div>\n",
              "      <button class=\"colab-df-convert\" onclick=\"convertToInteractive('df-632a4566-d863-40f2-a440-67ff6e3bae9d')\"\n",
              "              title=\"Convert this dataframe to an interactive table.\"\n",
              "              style=\"display:none;\">\n",
              "        \n",
              "  <svg xmlns=\"http://www.w3.org/2000/svg\" height=\"24px\"viewBox=\"0 0 24 24\"\n",
              "       width=\"24px\">\n",
              "    <path d=\"M0 0h24v24H0V0z\" fill=\"none\"/>\n",
              "    <path d=\"M18.56 5.44l.94 2.06.94-2.06 2.06-.94-2.06-.94-.94-2.06-.94 2.06-2.06.94zm-11 1L8.5 8.5l.94-2.06 2.06-.94-2.06-.94L8.5 2.5l-.94 2.06-2.06.94zm10 10l.94 2.06.94-2.06 2.06-.94-2.06-.94-.94-2.06-.94 2.06-2.06.94z\"/><path d=\"M17.41 7.96l-1.37-1.37c-.4-.4-.92-.59-1.43-.59-.52 0-1.04.2-1.43.59L10.3 9.45l-7.72 7.72c-.78.78-.78 2.05 0 2.83L4 21.41c.39.39.9.59 1.41.59.51 0 1.02-.2 1.41-.59l7.78-7.78 2.81-2.81c.8-.78.8-2.07 0-2.86zM5.41 20L4 18.59l7.72-7.72 1.47 1.35L5.41 20z\"/>\n",
              "  </svg>\n",
              "      </button>\n",
              "      \n",
              "  <style>\n",
              "    .colab-df-container {\n",
              "      display:flex;\n",
              "      flex-wrap:wrap;\n",
              "      gap: 12px;\n",
              "    }\n",
              "\n",
              "    .colab-df-convert {\n",
              "      background-color: #E8F0FE;\n",
              "      border: none;\n",
              "      border-radius: 50%;\n",
              "      cursor: pointer;\n",
              "      display: none;\n",
              "      fill: #1967D2;\n",
              "      height: 32px;\n",
              "      padding: 0 0 0 0;\n",
              "      width: 32px;\n",
              "    }\n",
              "\n",
              "    .colab-df-convert:hover {\n",
              "      background-color: #E2EBFA;\n",
              "      box-shadow: 0px 1px 2px rgba(60, 64, 67, 0.3), 0px 1px 3px 1px rgba(60, 64, 67, 0.15);\n",
              "      fill: #174EA6;\n",
              "    }\n",
              "\n",
              "    [theme=dark] .colab-df-convert {\n",
              "      background-color: #3B4455;\n",
              "      fill: #D2E3FC;\n",
              "    }\n",
              "\n",
              "    [theme=dark] .colab-df-convert:hover {\n",
              "      background-color: #434B5C;\n",
              "      box-shadow: 0px 1px 3px 1px rgba(0, 0, 0, 0.15);\n",
              "      filter: drop-shadow(0px 1px 2px rgba(0, 0, 0, 0.3));\n",
              "      fill: #FFFFFF;\n",
              "    }\n",
              "  </style>\n",
              "\n",
              "      <script>\n",
              "        const buttonEl =\n",
              "          document.querySelector('#df-632a4566-d863-40f2-a440-67ff6e3bae9d button.colab-df-convert');\n",
              "        buttonEl.style.display =\n",
              "          google.colab.kernel.accessAllowed ? 'block' : 'none';\n",
              "\n",
              "        async function convertToInteractive(key) {\n",
              "          const element = document.querySelector('#df-632a4566-d863-40f2-a440-67ff6e3bae9d');\n",
              "          const dataTable =\n",
              "            await google.colab.kernel.invokeFunction('convertToInteractive',\n",
              "                                                     [key], {});\n",
              "          if (!dataTable) return;\n",
              "\n",
              "          const docLinkHtml = 'Like what you see? Visit the ' +\n",
              "            '<a target=\"_blank\" href=https://colab.research.google.com/notebooks/data_table.ipynb>data table notebook</a>'\n",
              "            + ' to learn more about interactive tables.';\n",
              "          element.innerHTML = '';\n",
              "          dataTable['output_type'] = 'display_data';\n",
              "          await google.colab.output.renderOutput(dataTable, element);\n",
              "          const docLink = document.createElement('div');\n",
              "          docLink.innerHTML = docLinkHtml;\n",
              "          element.appendChild(docLink);\n",
              "        }\n",
              "      </script>\n",
              "    </div>\n",
              "  </div>\n",
              "  "
            ]
          },
          "metadata": {},
          "execution_count": 6
        }
      ]
    },
    {
      "cell_type": "code",
      "source": [
        "#userId x moveId , cell : rating인 matrix\n",
        "\n",
        "table_df = ratings_df.pivot_table(index='userId', columns='movieId', values ='rating')\n",
        "df_matrix = table_df.to_numpy()"
      ],
      "metadata": {
        "id": "Ld2w01p4k4nf"
      },
      "execution_count": 7,
      "outputs": []
    },
    {
      "cell_type": "code",
      "source": [
        "df_matrix = np.nan_to_num(df_matrix)"
      ],
      "metadata": {
        "id": "Q9C9Zgh4k77U"
      },
      "execution_count": 8,
      "outputs": []
    },
    {
      "cell_type": "code",
      "source": [
        "df_matrix"
      ],
      "metadata": {
        "colab": {
          "base_uri": "https://localhost:8080/"
        },
        "id": "bW0X0kxVk9eH",
        "outputId": "bbfd3c3a-9982-489f-f11c-1772a3cc2e75"
      },
      "execution_count": 9,
      "outputs": [
        {
          "output_type": "execute_result",
          "data": {
            "text/plain": [
              "array([[4. , 0. , 4. , ..., 0. , 0. , 0. ],\n",
              "       [0. , 0. , 0. , ..., 0. , 0. , 0. ],\n",
              "       [0. , 0. , 0. , ..., 0. , 0. , 0. ],\n",
              "       ...,\n",
              "       [2.5, 2. , 2. , ..., 0. , 0. , 0. ],\n",
              "       [3. , 0. , 0. , ..., 0. , 0. , 0. ],\n",
              "       [5. , 0. , 0. , ..., 0. , 0. , 0. ]])"
            ]
          },
          "metadata": {},
          "execution_count": 9
        }
      ]
    },
    {
      "cell_type": "code",
      "source": [
        "#implicit한 거니까 그냥 1과 0으로만 표현\n",
        "df_matrix[df_matrix>0]=1"
      ],
      "metadata": {
        "id": "v0zxYmGJnxd-"
      },
      "execution_count": 10,
      "outputs": []
    },
    {
      "cell_type": "code",
      "source": [
        "row_sums = np.sum(df_matrix,axis=1)\n",
        "col_sums = np.sum(df_matrix,axis=0)\n",
        "\n",
        "row_keep = row_sums>=10\n",
        "col_keep = col_sums>=10\n",
        "\n",
        "user_movie_data = df_matrix[row_keep][:,col_keep]"
      ],
      "metadata": {
        "id": "exAFMfCEn6kJ"
      },
      "execution_count": 11,
      "outputs": []
    },
    {
      "cell_type": "code",
      "source": [
        "#확인차 써보는 코드\n",
        "user_movie_data.shape[0]"
      ],
      "metadata": {
        "colab": {
          "base_uri": "https://localhost:8080/"
        },
        "id": "rT9Ns1hRolw7",
        "outputId": "a20f104e-dd97-41f0-c317-b13377e734b4"
      },
      "execution_count": 55,
      "outputs": [
        {
          "output_type": "execute_result",
          "data": {
            "text/plain": [
              "610"
            ]
          },
          "metadata": {},
          "execution_count": 55
        }
      ]
    },
    {
      "cell_type": "code",
      "source": [
        "tmp = np.nonzero(user_movie_data[0])[0]\n",
        "filter_tmp = tmp[tmp!=2]\n",
        "print(tmp)\n",
        "print(filter_tmp)\n",
        "print(user_movie_data[0][tmp])"
      ],
      "metadata": {
        "colab": {
          "base_uri": "https://localhost:8080/"
        },
        "id": "5vsVVNY-5HQ0",
        "outputId": "35ad1ce5-2d6c-4c30-def7-02430a389674"
      },
      "execution_count": 68,
      "outputs": [
        {
          "output_type": "stream",
          "name": "stdout",
          "text": [
            "[   0    2    4   34   36   43   55   59   71   74   80  106  109  114\n",
            "  118  131  148  156  165  173  178  181  184  208  216  221  229  239\n",
            "  250  263  266  267  276  277  278  281  285  294  296  299  310  311\n",
            "  323  367  370  380  399  400  403  404  405  406  412  414  417  420\n",
            "  424  429  430  432  437  445  449  465  466  467  473  475  477  480\n",
            "  481  486  487  489  491  501  516  518  524  528  533  536  538  546\n",
            "  552  569  583  594  597  618  621  627  632  633  636  648  650  651\n",
            "  655  663  680  689  695  719  722  729  740  749  754  759  761  766\n",
            "  767  770  771  779  788  789  790  793  799  800  812  814  816  818\n",
            "  825  827  830  839  840  841  846  860  864  868  873  883  887  894\n",
            "  901  908  913  916  920  924  929  935  936  942  945  947  951  957\n",
            "  958  960  961  962  965  966  976  979  987 1001 1014 1023 1028 1032\n",
            " 1040 1047 1048 1049 1050 1055 1059 1061 1064 1065 1067 1077 1078 1083\n",
            " 1084 1086 1106 1112 1116 1125 1128 1131 1148 1168 1181 1182 1183 1184\n",
            " 1185 1194 1198 1207 1217 1223 1230 1234 1244 1245 1252 1255 1266 1268\n",
            " 1448]\n",
            "[   0    4   34   36   43   55   59   71   74   80  106  109  114  118\n",
            "  131  148  156  165  173  178  181  184  208  216  221  229  239  250\n",
            "  263  266  267  276  277  278  281  285  294  296  299  310  311  323\n",
            "  367  370  380  399  400  403  404  405  406  412  414  417  420  424\n",
            "  429  430  432  437  445  449  465  466  467  473  475  477  480  481\n",
            "  486  487  489  491  501  516  518  524  528  533  536  538  546  552\n",
            "  569  583  594  597  618  621  627  632  633  636  648  650  651  655\n",
            "  663  680  689  695  719  722  729  740  749  754  759  761  766  767\n",
            "  770  771  779  788  789  790  793  799  800  812  814  816  818  825\n",
            "  827  830  839  840  841  846  860  864  868  873  883  887  894  901\n",
            "  908  913  916  920  924  929  935  936  942  945  947  951  957  958\n",
            "  960  961  962  965  966  976  979  987 1001 1014 1023 1028 1032 1040\n",
            " 1047 1048 1049 1050 1055 1059 1061 1064 1065 1067 1077 1078 1083 1084\n",
            " 1086 1106 1112 1116 1125 1128 1131 1148 1168 1181 1182 1183 1184 1185\n",
            " 1194 1198 1207 1217 1223 1230 1234 1244 1245 1252 1255 1266 1268 1448]\n",
            "[1. 1. 1. 1. 1. 1. 1. 1. 1. 1. 1. 1. 1. 1. 1. 1. 1. 1. 1. 1. 1. 1. 1. 1.\n",
            " 1. 1. 1. 1. 1. 1. 1. 1. 1. 1. 1. 1. 1. 1. 1. 1. 1. 1. 1. 1. 1. 1. 1. 1.\n",
            " 1. 1. 1. 1. 1. 1. 1. 1. 1. 1. 1. 1. 1. 1. 1. 1. 1. 1. 1. 1. 1. 1. 1. 1.\n",
            " 1. 1. 1. 1. 1. 1. 1. 1. 1. 1. 1. 1. 1. 1. 1. 1. 1. 1. 1. 1. 1. 1. 1. 1.\n",
            " 1. 1. 1. 1. 1. 1. 1. 1. 1. 1. 1. 1. 1. 1. 1. 1. 1. 1. 1. 1. 1. 1. 1. 1.\n",
            " 1. 1. 1. 1. 1. 1. 1. 1. 1. 1. 1. 1. 1. 1. 1. 1. 1. 1. 1. 1. 1. 1. 1. 1.\n",
            " 1. 1. 1. 1. 1. 1. 1. 1. 1. 1. 1. 1. 1. 1. 1. 1. 1. 1. 1. 1. 1. 1. 1. 1.\n",
            " 1. 1. 1. 1. 1. 1. 1. 1. 1. 1. 1. 1. 1. 1. 1. 1. 1. 1. 1. 1. 1. 1. 1. 1.\n",
            " 1. 1. 1. 1. 1. 1. 1. 1. 1. 1. 1. 1. 1. 1. 1. 1. 1. 1. 1.]\n"
          ]
        }
      ]
    },
    {
      "cell_type": "code",
      "source": [
        "u = np.random.choice(range(user_movie_data.shape[0]))\n",
        "print(u)\n",
        "u_vector = copy.deepcopy(user_movie_data[u])\n",
        "print(np.where(u_vector==1))\n",
        "print(np.random.choice(np.where(u_vector==1)[0]))\n",
        "print(np.where(u_vector==0))\n",
        "#여기까지 확인차 써보는 코드였다."
      ],
      "metadata": {
        "colab": {
          "base_uri": "https://localhost:8080/"
        },
        "id": "MOblRoc2IDHB",
        "outputId": "09b059c5-d68d-4262-86b9-2d13d4acd774"
      },
      "execution_count": 13,
      "outputs": [
        {
          "output_type": "stream",
          "name": "stdout",
          "text": [
            "408\n",
            "(array([  29,   60,  109,  118,  131,  148,  158,  225,  269,  278,  285,\n",
            "        326,  346,  359,  361,  367,  376,  383,  420,  421,  422,  424,\n",
            "        433,  444,  449,  463,  464,  466,  480,  486,  488,  492,  494,\n",
            "        495,  498,  503,  505,  508,  516,  519,  524,  534,  536,  557,\n",
            "        558,  586,  593,  619,  714,  727,  760,  766,  774,  795,  845,\n",
            "        856,  867,  872,  875,  887,  925,  926,  941,  948,  952,  953,\n",
            "        966,  971,  974,  977,  978,  981,  982,  984,  986,  987,  994,\n",
            "       1002, 1004, 1005, 1006, 1007, 1012, 1019, 1028, 1034, 1037, 1058,\n",
            "       1067, 1072, 1080, 1114, 1115, 1124, 1126, 1148, 1152, 1166, 1167,\n",
            "       1176, 1190, 1201, 1206, 1211, 1234, 1258, 1269, 1276, 1280, 1281,\n",
            "       1448]),)\n",
            "948\n",
            "(array([   0,    1,    2, ..., 2266, 2267, 2268]),)\n"
          ]
        }
      ]
    },
    {
      "cell_type": "code",
      "source": [
        "user_feat = np.random.random((user_movie_data.shape[0], 20))\n",
        "item_feat = np.random.random((user_movie_data.shape[1], 20))\n",
        "\n",
        "print(user_feat[0].shape)\n",
        "print(item_feat[0].shape)"
      ],
      "metadata": {
        "colab": {
          "base_uri": "https://localhost:8080/"
        },
        "id": "lIa0MCUi5CiQ",
        "outputId": "17b2d9cc-60d8-46fd-a4b2-8adbe82d7d18"
      },
      "execution_count": 19,
      "outputs": [
        {
          "output_type": "stream",
          "name": "stdout",
          "text": [
            "(20,)\n",
            "(20,)\n"
          ]
        }
      ]
    },
    {
      "cell_type": "code",
      "source": [
        "class BPR:\n",
        "  def __init__(self,learning_rate = 0.01, features = 20, itrs = 10, lbd = 0.01, data = None):\n",
        "    self.learning_rate = learning_rate\n",
        "    self.features = features\n",
        "    self.itrs = itrs\n",
        "    self.lbd = lbd\n",
        "    self.data = data\n",
        "\n",
        "  def fit(self):\n",
        "    #일단 user x feature, item x feature를 초기에 random하게 생성\n",
        "    user_feat = np.random.random((self.data.shape[0],self.features))\n",
        "    item_feat = np.random.random((self.data.shape[1],self.features))\n",
        "\n",
        "    auc = []\n",
        "    predicted = []\n",
        "    truevalue = []\n",
        "    epochs = []\n",
        "\n",
        "    for itr in range(1000001):\n",
        "      u = np.random.choice(range(self.data.shape[0]))\n",
        "      u_feat = copy.deepcopy(self.data[u])\n",
        "      i = np.random.choice(np.where(u_feat==1)[0])\n",
        "      j = np.random.choice(np.where(u_feat==0)[0])\n",
        "\n",
        "      w_u = user_feat[u,:]\n",
        "      h_i = item_feat[i,:]\n",
        "      h_j = item_feat[j,:]\n",
        "\n",
        "      x_uij = np.dot(w_u,h_i) - np.dot(w_u,h_j)\n",
        "      exp = np.exp(-x_uij) / (1 + np.exp(-x_uij))\n",
        "\n",
        "      grad_wu = exp * (h_i-h_j) + self.lbd * w_u\n",
        "      user_feat[u,:] = user_feat[u,:] + self.learning_rate * grad_wu\n",
        "\n",
        "      grad_hi = exp * (w_u) + self.lbd * h_i\n",
        "      item_feat[i,:] = item_feat[i,:] + self.learning_rate * grad_hi\n",
        "\n",
        "      grad_hj = exp * (-w_u) + self.lbd * h_j\n",
        "      item_feat[j,:] = item_feat[j,:] + self.learning_rate * grad_hj\n",
        "\n",
        "      if(x_uij>0):\n",
        "        predicted.append(1)\n",
        "      else:\n",
        "        predicted.append(0)\n",
        "      #해당 유저의 movie i와 movie j를 비교해서 보자.\n",
        "      if(self.data[u][i]==1 and self.data[u][j]==0):\n",
        "        truevalue.append(1)\n",
        "      else:\n",
        "        truevalue.append(0)\n",
        "      if(itr%100000==0):\n",
        "        if not(sum(truevalue)==0 and itr !=0):\n",
        "          epochs.append(itr)\n",
        "          auc.append(sum(predicted)/sum(truevalue))\n",
        "          print(str(itr) + \"th auc is : \" + str(auc[-1]))\n",
        "\n",
        "\n",
        "    return epochs, auc\n",
        "\n",
        "\n",
        "\n",
        "\n",
        "\n"
      ],
      "metadata": {
        "id": "0jMxDSmGpspb"
      },
      "execution_count": 50,
      "outputs": []
    },
    {
      "cell_type": "code",
      "source": [
        "bpr_model = BPR(0.01,20,10,0.01,user_movie_data)\n",
        "epochs, auc = bpr_model.fit()"
      ],
      "metadata": {
        "colab": {
          "base_uri": "https://localhost:8080/"
        },
        "id": "hfnpmeQSKAbZ",
        "outputId": "4b288ec9-3c1a-42b2-8868-87347f7dbc96"
      },
      "execution_count": 51,
      "outputs": [
        {
          "output_type": "stream",
          "name": "stdout",
          "text": [
            "0th auc is : 0.0\n",
            "100000th auc is : 0.6987430125698743\n",
            "200000th auc is : 0.7413012934935326\n",
            "300000th auc is : 0.7607874640417865\n",
            "400000th auc is : 0.7731655670860823\n",
            "500000th auc is : 0.7816644366711266\n",
            "600000th auc is : 0.7880270199549667\n",
            "700000th auc is : 0.7936188662587624\n",
            "800000th auc is : 0.7982677521653098\n",
            "900000th auc is : 0.8030046633281519\n",
            "1000000th auc is : 0.807089192910807\n"
          ]
        }
      ]
    },
    {
      "cell_type": "code",
      "source": [
        "print(len(auc))\n",
        "print(len(epochs))"
      ],
      "metadata": {
        "colab": {
          "base_uri": "https://localhost:8080/"
        },
        "id": "9oMY5l_wKhKj",
        "outputId": "6d122914-e606-4f10-a12d-58633004e9b8"
      },
      "execution_count": 53,
      "outputs": [
        {
          "output_type": "stream",
          "name": "stdout",
          "text": [
            "11\n",
            "11\n"
          ]
        }
      ]
    },
    {
      "cell_type": "code",
      "source": [
        "plt.plot(epochs, auc)\n",
        "plt.show()"
      ],
      "metadata": {
        "colab": {
          "base_uri": "https://localhost:8080/",
          "height": 448
        },
        "id": "xRXTAScON5LQ",
        "outputId": "4517b983-1e2a-4d92-a43c-083cb00fd701"
      },
      "execution_count": 54,
      "outputs": [
        {
          "output_type": "display_data",
          "data": {
            "text/plain": [
              "<Figure size 640x480 with 1 Axes>"
            ],
            "image/png": "[encoded data removed]"
          },
          "metadata": {}
        }
      ]
    },
    {
      "cell_type": "code",
      "source": [
        "class BPR_KNN:\n",
        "  def __init__(self,learning_rate = 0.01, features = 20, lbd = 0.01, data = None):\n",
        "    self.learning_rate = learning_rate\n",
        "    self.features = features\n",
        "    self.lbd = lbd\n",
        "    self.data = data\n",
        "    self.c_item = np.random.random((self.data.shape[1],self.data.shape[1]))\n",
        "    #temp = np.random.random((self.data.shape[1],self.data.shape[1]))\n",
        "    #self.c_item =\n",
        "\n",
        "  def fit(self):\n",
        "    auc = []\n",
        "    predicted = []\n",
        "    truevalue = []\n",
        "    epochs = []\n",
        "\n",
        "    for itr in range(1000001):\n",
        "      u = np.random.choice(range(self.data.shape[0]))\n",
        "      u_feat = copy.deepcopy(self.data[u])\n",
        "      i = np.random.choice(np.where(u_feat==1)[0])\n",
        "      j = np.random.choice(np.where(u_feat==0)[0])\n",
        "\n",
        "      #C에서 읽도록 u가 ratings에서 (i제외) 평가했던 항목들의 위치를 읽어온다.\n",
        "      compare_list_temp_i = np.nonzero(self.data[u])[0]\n",
        "      compare_location_i = compare_list_temp_i[compare_list_temp_i!=i]\n",
        "\n",
        "      #c_il 들 의 위치를 위해 우선 ith row를 지정하고 나머지는 compare list의 위치로 찾아준다. 여기엔 이제 위치가 아니라 cli의 값들이 담긴거야.\n",
        "      compare_list_i = self.c_item[i][compare_location_i]\n",
        "      x_ui = np.sum(compare_list_i)\n",
        "\n",
        "      #j에대해 동일과정 반복. [0]은 (list,공백)인 형태로 나와서 해준거다.\n",
        "      compare_list_temp_j = np.nonzero(self.data[u])[0]\n",
        "      compare_location_j = compare_list_temp_j[compare_list_temp_j!=j]\n",
        "\n",
        "      compare_list_j = self.c_item[j][compare_location_j]\n",
        "      x_uj = np.sum(compare_list_j)\n",
        "\n",
        "      x_uij = x_ui-x_uj\n",
        "      exp = np.exp(-x_uij) / (1 + np.exp(-x_uij))\n",
        "\n",
        "      grad_ci = exp * 1 + self.lbd * self.c_item[i, compare_location_i]\n",
        "      grad_cj = exp * (-1) + self.lbd * self.c_item[j, compare_location_j]\n",
        "\n",
        "      #이제 갱신을 해주었다. c를\n",
        "      self.c_item[i,compare_location_i] = self.c_item[i,compare_location_i] + self.learning_rate * grad_ci\n",
        "      self.c_item[j,compare_location_j] = self.c_item[j,compare_location_j] + self.learning_rate * grad_cj\n",
        "\n",
        "      if(x_uij>0):\n",
        "        predicted.append(1)\n",
        "      else:\n",
        "        predicted.append(0)\n",
        "      #해당 유저의 movie i와 movie j를 비교해서 보자.\n",
        "      if(self.data[u][i]==1 and self.data[u][j]==0):\n",
        "        truevalue.append(1)\n",
        "      else:\n",
        "        truevalue.append(0)\n",
        "      if(itr%100000==0):\n",
        "        if not(sum(truevalue)==0 and itr !=0):\n",
        "          epochs.append(itr)\n",
        "          auc.append(sum(predicted)/sum(truevalue))\n",
        "          print(str(itr) + \"th auc is : \" + str(auc[-1]))\n",
        "\n",
        "\n",
        "    return epochs, auc"
      ],
      "metadata": {
        "id": "Tq4kBBbVQEfp"
      },
      "execution_count": 69,
      "outputs": []
    },
    {
      "cell_type": "code",
      "source": [
        "knn_model = BPR_KNN(0.01,20,0.01,user_movie_data)\n",
        "knn_epochs, knn_auc = knn_model.fit()"
      ],
      "metadata": {
        "colab": {
          "base_uri": "https://localhost:8080/"
        },
        "id": "LMFfhBrzBasI",
        "outputId": "7acc4970-9970-4c62-8cc1-6e8790a923cd"
      },
      "execution_count": 71,
      "outputs": [
        {
          "output_type": "stream",
          "name": "stdout",
          "text": [
            "0th auc is : 0.0\n",
            "100000th auc is : 0.6547934520654793\n",
            "200000th auc is : 0.7246463767681162\n",
            "300000th auc is : 0.7656807810640631\n",
            "400000th auc is : 0.7944155139612151\n",
            "500000th auc is : 0.815740368519263\n",
            "600000th auc is : 0.8329336117773137\n",
            "700000th auc is : 0.8467387903731566\n",
            "800000th auc is : 0.8581201773497783\n",
            "900000th auc is : 0.8676545914948983\n",
            "1000000th auc is : 0.8759261240738759\n"
          ]
        }
      ]
    },
    {
      "cell_type": "code",
      "source": [
        "plt.plot(knn_epochs, knn_auc)\n",
        "plt.show()"
      ],
      "metadata": {
        "colab": {
          "base_uri": "https://localhost:8080/",
          "height": 448
        },
        "id": "1PkkugkoBj7P",
        "outputId": "e30f952c-a794-4619-f6e7-470e3f1b87c8"
      },
      "execution_count": 72,
      "outputs": [
        {
          "output_type": "display_data",
          "data": {
            "text/plain": [
              "<Figure size 640x480 with 1 Axes>"
            ],
            "image/png": "[encoded data removed]"
          },
          "metadata": {}
        }
      ]
    },
    {
      "cell_type": "code",
      "source": [],
      "metadata": {
        "id": "lAWr_UZDDT7i"
      },
      "execution_count": null,
      "outputs": []
    }
  ]
}