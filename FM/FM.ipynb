{
  "nbformat": 4,
  "nbformat_minor": 0,
  "metadata": {
    "colab": {
      "provenance": [],
      "gpuType": "T4"
    },
    "kernelspec": {
      "name": "python3",
      "display_name": "Python 3"
    },
    "language_info": {
      "name": "python"
    },
    "accelerator": "GPU"
  },
  "cells": [
    {
      "cell_type": "code",
      "source": [
        "from google.colab import drive\n",
        "drive.mount('/content/drive')"
      ],
      "metadata": {
        "colab": {
          "base_uri": "https://localhost:8080/"
        },
        "id": "YfKGYaUgmAZM",
        "outputId": "ddf6638a-2641-4291-adaf-5aa9e77bb387"
      },
      "execution_count": 1,
      "outputs": [
        {
          "output_type": "stream",
          "name": "stdout",
          "text": [
            "Mounted at /content/drive\n"
          ]
        }
      ]
    },
    {
      "cell_type": "code",
      "execution_count": 2,
      "metadata": {
        "id": "xPEgFA6-GzM4"
      },
      "outputs": [],
      "source": [
        "import torch\n",
        "import torchvision\n",
        "import torch.nn as nn\n",
        "import os\n",
        "import numpy as np\n",
        "import pandas as pd\n",
        "import warnings\n",
        "from sklearn.model_selection import train_test_split\n",
        "from torch import optim\n",
        "import matplotlib.pyplot as plt\n",
        "import math\n",
        "import copy\n",
        "warnings.filterwarnings('ignore')"
      ]
    },
    {
      "cell_type": "code",
      "source": [
        "INPUT_DIR='/content/drive/MyDrive/DSAIL/ml-100k/'\n",
        "OUTPUT_DIR='/content/drive/MyDrive/DSAIL/ml-100k/'\n",
        "\n",
        "#ratings = pd.read_csv(os.path.join(INPUT_DIR, 'u.data'),sep='\\t', names = [\"userId\", \"movieId\", \"rating\", \"timestamp\"])\n",
        "ratings = pd.read_csv(INPUT_DIR + 'u.data', sep='\\t', names = [\"userId\", \"movieId\", \"rating\", \"timestamp\"])\n",
        "movies = pd.read_csv(INPUT_DIR + 'u.item', sep=\"|\", names = ['movieId', 'title', 'release_date', 'video_release_date', 'imdb_url', 'unknown', 'action', 'adventure',\n",
        "                      'animation', 'children', 'comedy', 'crime', 'documentary', 'drama', 'fantasy', 'film_noir', 'horror',\n",
        "                      'musical', 'mystery', 'romance', 'sci_fi', 'thriller', 'war', 'western'], encoding=\"ISO-8859-1\")\n",
        "users = pd.read_csv(INPUT_DIR + 'u.user', sep=\"|\", names = ['userId', 'age', 'gender', 'occupation', 'zip_code'])\n",
        "\n",
        "ratings = ratings.drop('timestamp',axis=1)\n",
        "\n",
        "users = users.drop('zip_code', axis=1)\n",
        "\n",
        "\n",
        "movies = movies.drop('imdb_url', axis=1)\n",
        "movies = movies.drop('video_release_date',axis=1)\n",
        "movies = movies.fillna(\"1997\")\n",
        "movies[\"year\"] = movies[\"release_date\"].str[-4:].astype(int)\n",
        "movies = movies.drop('release_date', axis=1)\n",
        "movies = movies.drop('title', axis=1)"
      ],
      "metadata": {
        "id": "Rk7VY2ZBmRh3"
      },
      "execution_count": 11,
      "outputs": []
    },
    {
      "cell_type": "code",
      "source": [
        "#dataloader한테 먹일 때 numpy를 해야한다. dataframe넣으면 오류가 난다.\n",
        "\n",
        "one_hot = pd.get_dummies(ratings,columns = ratings.columns)\n",
        "y = ratings['rating']\n",
        "one_hot = one_hot.drop(columns = ['rating_1','rating_2','rating_3','rating_4','rating_5'])\n",
        "one_hot = one_hot\n",
        "one_hot = one_hot.to_numpy()\n",
        "y = y.to_numpy()"
      ],
      "metadata": {
        "id": "xO5MZRQnSH6R"
      },
      "execution_count": 12,
      "outputs": []
    },
    {
      "cell_type": "code",
      "source": [
        "x_train, x_test, y_train, y_test = train_test_split(one_hot,y, test_size = 0.2, random_state=1440)"
      ],
      "metadata": {
        "id": "DhGD9jPfuH7r"
      },
      "execution_count": 13,
      "outputs": []
    },
    {
      "cell_type": "code",
      "source": [
        "if torch.cuda.is_available():\n",
        "    device = torch.device(\"cuda\")\n",
        "    print(\"GPU is available\")\n",
        "else:\n",
        "    device = torch.device(\"cpu\")\n",
        "    print(\"GPU not available, CPU used\")"
      ],
      "metadata": {
        "id": "rXnZvq-FtPbC",
        "colab": {
          "base_uri": "https://localhost:8080/"
        },
        "outputId": "463b4e18-70d2-41c6-e675-ebaa0e4bc92b"
      },
      "execution_count": 6,
      "outputs": [
        {
          "output_type": "stream",
          "name": "stdout",
          "text": [
            "GPU is available\n"
          ]
        }
      ]
    },
    {
      "cell_type": "code",
      "source": [
        "from torch.utils.data import Dataset, DataLoader\n",
        "\n",
        "class TrainDataset(Dataset):\n",
        "  def __init__(self,data,target):\n",
        "    self.data = data\n",
        "    self.target = target\n",
        "\n",
        "  def __len__(self):\n",
        "    return len(self.data)\n",
        "\n",
        "  def __getitem__(self,idx):\n",
        "    return self.data[idx], self.target[idx]\n"
      ],
      "metadata": {
        "id": "_LuDYCopri0O"
      },
      "execution_count": 7,
      "outputs": []
    },
    {
      "cell_type": "code",
      "source": [
        "class FM(nn.Module):\n",
        "  def __init__(self,n,k):\n",
        "    super(FM,self).__init__()\n",
        "    self.W0 = nn.Parameter(torch.randn(1))\n",
        "    self.W = nn.Parameter(torch.randn(n))\n",
        "    self.V = nn.Parameter(torch.randn(n,k))\n",
        "\n",
        "  def forward(self, x):\n",
        "    x = x.float()\n",
        "    linear_term = self.W0 + torch.matmul(self.W,x)\n",
        "    # x가 1 by n  / self.V n by k면\n",
        "    # x 곱 V 하면 1 by k 가 나온다. 여기에 논문이 의도한 수식과 동일하게 나온다.\n",
        "    t1 = (torch.matmul(x,self.V))**2\n",
        "    t2 = torch.matmul(x**2, self.V**2)\n",
        "    t = t1-t2\n",
        "    interaction_term = torch.sum(t)*0.5\n",
        "    return linear_term + interaction_term\n"
      ],
      "metadata": {
        "id": "V-fhYfkm3mXH"
      },
      "execution_count": 8,
      "outputs": []
    },
    {
      "cell_type": "code",
      "source": [
        "#우선 train dataset과 dataloader 정의 / test에도 마찬가지로 iterate가능하게끔 반복.\n",
        "train_dataset = TrainDataset(x_train, y_train)\n",
        "train_dataloader = DataLoader(x_train, 64, shuffle=False)\n",
        "\n",
        "test_dataset = TrainDataset(x_test, y_test)\n",
        "test_dataloader = DataLoader(x_test,64, shuffle=False)\n",
        "\n",
        "#모델은 일단 클래스로 만들고, gpu에 넣을 수 있도록 to device까지\n",
        "#optimizer 정의, lossfunction 정의\n",
        "model = FM(n=x_train.shape[1],k=20)\n",
        "model = model.to(device)\n",
        "optimizer = optim.SGD(model.parameters(), lr=0.001)\n",
        "loss_function = nn.MSELoss()\n",
        "valid_loss = []\n",
        "\n",
        "epochs = 30\n",
        "for epoch in range(epochs):\n",
        "  #model.train()\n",
        "  for idx, batch in enumerate(train_dataloader):\n",
        "    x_batch, y_batch = batch[0], batch[1]\n",
        "    x_batch, y_batch = x_batch.cuda(), y_batch.cuda()\n",
        "\n",
        "    #batch가져왔으면 예측하고 loss function 계산\n",
        "    pred = model(x_batch)\n",
        "    y_batch = y_batch.float()\n",
        "    cost = loss_function(pred,y_batch)\n",
        "\n",
        "\n",
        "    #누적되지 않게 zero grad 초기화/ 역전파/다음단계 넘어갈 준비\n",
        "    optimizer.zero_grad()\n",
        "    cost.backward()\n",
        "    optimizer.step()\n",
        "\n",
        "\n",
        "\n",
        "  for idx, batch in enumerate(test_dataloader):\n",
        "    x_batch, y_batch = batch[0], batch[1]\n",
        "    x_batch, y_batch = x_batch.cuda(), y_batch.cuda()\n",
        "\n",
        "    with torch.no_grad():\n",
        "      pred_test = model(x_batch)\n",
        "      y_batch_test = y_batch.float()\n",
        "      cost_test = loss_function(pred_test,y_batch_test)\n",
        "  valid_loss.append(cost_test.item())\n",
        "\n",
        "  print('Epoch {:4d}/{} Train Cost : {:.4f} Test Cost : {:.4f}'.format(epoch, epochs, cost.item(), cost_test.item()))\n",
        "\n",
        "plt.plot(range(1,epochs+1),valid_loss,marker='o')\n",
        "plt.xlabel('Epochs')\n",
        "plt.ylabel('Validation Error')\n",
        "plt.title('MSE for validation set')\n"
      ],
      "metadata": {
        "id": "rNxex-TFijU8",
        "colab": {
          "base_uri": "https://localhost:8080/",
          "height": 1000
        },
        "outputId": "a6071745-2fba-4236-fec0-05ee6cad3b3f"
      },
      "execution_count": 15,
      "outputs": [
        {
          "output_type": "stream",
          "name": "stdout",
          "text": [
            "Epoch    0/30 Train Cost : 70.5428 Test Cost : 0.6144\n",
            "Epoch    1/30 Train Cost : 55.5553 Test Cost : 0.5916\n",
            "Epoch    2/30 Train Cost : 44.0576 Test Cost : 0.5701\n",
            "Epoch    3/30 Train Cost : 35.1252 Test Cost : 0.5511\n",
            "Epoch    4/30 Train Cost : 28.1225 Test Cost : 0.5343\n",
            "Epoch    5/30 Train Cost : 22.5925 Test Cost : 0.5195\n",
            "Epoch    6/30 Train Cost : 18.2000 Test Cost : 0.5065\n",
            "Epoch    7/30 Train Cost : 14.6943 Test Cost : 0.4950\n",
            "Epoch    8/30 Train Cost : 11.8857 Test Cost : 0.4847\n",
            "Epoch    9/30 Train Cost : 9.6283 Test Cost : 0.4757\n",
            "Epoch   10/30 Train Cost : 7.8094 Test Cost : 0.4676\n",
            "Epoch   11/30 Train Cost : 6.3406 Test Cost : 0.4604\n",
            "Epoch   12/30 Train Cost : 5.1525 Test Cost : 0.4540\n",
            "Epoch   13/30 Train Cost : 4.1900 Test Cost : 0.4482\n",
            "Epoch   14/30 Train Cost : 3.4094 Test Cost : 0.4431\n",
            "Epoch   15/30 Train Cost : 2.7756 Test Cost : 0.4384\n",
            "Epoch   16/30 Train Cost : 2.2607 Test Cost : 0.4342\n",
            "Epoch   17/30 Train Cost : 1.8420 Test Cost : 0.4304\n",
            "Epoch   18/30 Train Cost : 1.5013 Test Cost : 0.4270\n",
            "Epoch   19/30 Train Cost : 1.2241 Test Cost : 0.4239\n",
            "Epoch   20/30 Train Cost : 0.9983 Test Cost : 0.4210\n",
            "Epoch   21/30 Train Cost : 0.8143 Test Cost : 0.4184\n",
            "Epoch   22/30 Train Cost : 0.6644 Test Cost : 0.4160\n",
            "Epoch   23/30 Train Cost : 0.5422 Test Cost : 0.4138\n",
            "Epoch   24/30 Train Cost : 0.4426 Test Cost : 0.4118\n",
            "Epoch   25/30 Train Cost : 0.3614 Test Cost : 0.4099\n",
            "Epoch   26/30 Train Cost : 0.2951 Test Cost : 0.4081\n",
            "Epoch   27/30 Train Cost : 0.2411 Test Cost : 0.4065\n",
            "Epoch   28/30 Train Cost : 0.1970 Test Cost : 0.4050\n",
            "Epoch   29/30 Train Cost : 0.1610 Test Cost : 0.4035\n"
          ]
        },
        {
          "output_type": "execute_result",
          "data": {
            "text/plain": [
              "Text(0.5, 1.0, 'MSE for validation set')"
            ]
          },
          "metadata": {},
          "execution_count": 15
        },
        {
          "output_type": "display_data",
          "data": {
            "text/plain": [
              "<Figure size 640x480 with 1 Axes>"
            ],
            "image/png": "[encoded data removed]"
          },
          "metadata": {}
        }
      ]
    },
    {
      "cell_type": "code",
      "source": [],
      "metadata": {
        "id": "5RehFT_F0O5s"
      },
      "execution_count": null,
      "outputs": []
    }
  ]
}